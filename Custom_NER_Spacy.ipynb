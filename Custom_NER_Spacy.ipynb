{
 "cells": [
  {
   "cell_type": "code",
   "execution_count": 1,
   "metadata": {},
   "outputs": [
    {
     "name": "stdout",
     "output_type": "stream",
     "text": [
      "Requirement already satisfied: bs4 in /mnt/workspace/.local/lib/python3.5/site-packages (0.0.1)\n",
      "Requirement already satisfied: beautifulsoup4 in /mnt/workspace/.local/lib/python3.5/site-packages (from bs4) (4.8.1)\n",
      "Requirement already satisfied: soupsieve>=1.2 in /mnt/workspace/.local/lib/python3.5/site-packages (from beautifulsoup4->bs4) (1.9.5)\n",
      "\u001b[33mYou are using pip version 18.0, however version 19.3.1 is available.\n",
      "You should consider upgrading via the 'pip install --upgrade pip' command.\u001b[0m\n"
     ]
    }
   ],
   "source": [
    "import spacy\n",
    "from spacy import displacy\n",
    "from collections import Counter\n",
    "import en_core_web_sm\n",
    "#!pip install https://github.com/explosion/spacy-models/releases/download/en_core_web_sm-2.2.0/en_core_web_sm-2.2.0.tar.gz --user\n",
    "nlp = en_core_web_sm.load()\n",
    "import pandas as pd\n",
    "import json\n",
    "!pip install bs4 --user\n",
    "from bs4 import BeautifulSoup\n",
    "import requests\n",
    "import re\n",
    "import os\n",
    "import mmap"
   ]
  },
  {
   "cell_type": "markdown",
   "metadata": {},
   "source": [
    "## Load data"
   ]
  },
  {
   "cell_type": "code",
   "execution_count": 5,
   "metadata": {},
   "outputs": [
    {
     "name": "stdout",
     "output_type": "stream",
     "text": [
      "0-Hello, I am looking for a cheap place to dine in the centre.\n",
      "1-We have lots of those!  Is there a particular type of food you'd like?\n",
      "2-not really but i need it for 3 people\n",
      "3-I recommend La Raza - fantastic (and cheap!) Spanish cuisine. I'd be happy to book a table for you, if you like.\n",
      "4-Yes for 3 at 14:45 wednesday, can I get the reference number too please\n",
      "5-Booking was successful. The table will be reserved for 15 minutes. Reference number is : IBTN1DDC.\n",
      "6-Thanks. I also need a cheap place to stay in the center.\n",
      "7-That gives you two options. Both are guesthouses. Both offer free parking and free wifi. The Alexander B&B is 4 star rated. The El Shaddai has a 0 rating.\n",
      "8-What is the price of the Alexander?\n",
      "9-It is a cheap place.\n",
      "10-ok, i need to book it for the same day.\n",
      "11-Okay for how many nights and how many people?\n",
      "12-3 nights, 3 people, please.\n",
      "13-You are all booked for the alexander bed and breakfast! Your reference number is 66XCD1XW. Is there anything else you need?\n",
      "14-I would like a taxi from the hotel to the restaurant. I would like to arrive by 14:45. I would like the contact number and car type. \n",
      "15-Okay. Your booking was successful. The car type is blue Lexus. The contact number is 07881581074. \n",
      "16-Okay thank you,that's all I need for now.\n",
      "17-Thank you for using our service today.\n",
      "18-Thank you so much.\n",
      "19-Have a wonderful day.\n",
      "20-You have a wonderful day as well and again, thank you!\n",
      "21-You're very welcome! Bye!\n"
     ]
    }
   ],
   "source": [
    "with open('data.json', 'r') as f:\n",
    "    dict_json_weighted = json.load(f)\n",
    "object_1 = list(dict_json_weighted.keys())[4]\n",
    "for i in range(len(dict_json_weighted[object_1]['log'])):\n",
    "    print(str(i)+\"-\"+dict_json_weighted[object_1]['log'][i]['text'])"
   ]
  },
  {
   "cell_type": "markdown",
   "metadata": {},
   "source": [
    "## Load ontology"
   ]
  },
  {
   "cell_type": "code",
   "execution_count": 6,
   "metadata": {},
   "outputs": [],
   "source": [
    "with open('ontology.json', 'r') as o:\n",
    "    ontology = json.load(o)\n",
    "action=['inform', 'request', 'select', 'recommend', 'not found', 'request booking', 'offer booking', \n",
    "        'inform booked', 'decline booking', 'welcome','greet', 'bye', 'reqmore' ]\n",
    "topic= ['hotel', 'restaurant', 'taxi', 'train', 'attraction', 'police', 'hospital']"
   ]
  },
  {
   "cell_type": "markdown",
   "metadata": {},
   "source": [
    "## display topics and actions"
   ]
  },
  {
   "cell_type": "code",
   "execution_count": 12,
   "metadata": {},
   "outputs": [
    {
     "name": "stdout",
     "output_type": "stream",
     "text": [
      "topics: ['taxi', 'hotel', 'restaurant']\n",
      "actions: ['recommend', 'welcome', 'bye']\n"
     ]
    }
   ],
   "source": [
    "top=[]\n",
    "act=[]\n",
    "ont=list(ontology.keys())\n",
    "for i in range(len(dict_json_weighted[object_1]['log'])):\n",
    "    #print(dict_json_weighted[object_1]['log'][i]['text'])\n",
    "    sentence =nlp (dict_json_weighted[object_1]['log'][i]['text'])\n",
    "    for x in [y for y in sentence if y.pos_ != 'PUNCT']:\n",
    "        if str(x).lower() in topic:\n",
    "            if str(x).lower() not in top:\n",
    "                top.append(str(x).lower()) \n",
    "        if x.lemma_ in action:\n",
    "            if x.lemma_ not in act:\n",
    "                act.append(x.lemma_)\n",
    "        #for z in ont:\n",
    "            #if str(x) in str(ontology[z]):\n",
    "                #print(z+\" :\"+str(x))           \n",
    "print(\"topics: \"+str(top))\n",
    "print(\"actions: \"+str(act))\n"
   ]
  },
  {
   "cell_type": "markdown",
   "metadata": {},
   "source": [
    "## Display the updated slots "
   ]
  },
  {
   "cell_type": "code",
   "execution_count": 11,
   "metadata": {},
   "outputs": [
    {
     "name": "stdout",
     "output_type": "stream",
     "text": [
      "****** taxi ******\n",
      "°info\n",
      "{'arriveBy': '14:45'}\n",
      "°reqt\n",
      "['car type', 'phone']\n",
      "****** restaurant ******\n",
      "°info\n",
      "{'pricerange': 'cheap', 'area': 'centre'}\n",
      "°fail_info\n",
      "{'pricerange': 'expensive', 'area': 'north'}\n",
      "°book\n",
      "{'day': 'wednesday', 'people': '3', 'invalid': False, 'time': '14:45'}\n",
      "****** hotel ******\n",
      "°info\n",
      "{'internet': 'yes', 'pricerange': 'cheap', 'area': 'centre'}\n",
      "°book\n",
      "{'stay': '3', 'day': 'wednesday', 'people': '3', 'invalid': False}\n"
     ]
    }
   ],
   "source": [
    "for i in dict_json_weighted[object_1]['goal']:\n",
    "    if i not in['message', 'topic']:\n",
    "        if dict_json_weighted[object_1]['goal'][i] !={}:\n",
    "            print(\"****** \"+i+\" ******\")\n",
    "            for j in (dict_json_weighted[object_1]['goal'][i]):\n",
    "                if dict_json_weighted[object_1]['goal'][i][j] not in ['fail_info', {}]:\n",
    "                    print(\"°\"+j)\n",
    "                    print(dict_json_weighted[object_1]['goal'][i][j])\n",
    "    "
   ]
  },
  {
   "cell_type": "markdown",
   "metadata": {},
   "source": [
    "# Custom NER"
   ]
  },
  {
   "cell_type": "markdown",
   "metadata": {},
   "source": [
    "### create the ner pipeline component and add it to model"
   ]
  },
  {
   "cell_type": "code",
   "execution_count": 42,
   "metadata": {},
   "outputs": [],
   "source": [
    "if 'ner' not in nlp.pipe_names:\n",
    "    ner = nlp.create_pipe('ner')\n",
    "    nlp.add_pipe(ner)\n",
    "else:\n",
    "    ner = nlp.get_pipe('ner')"
   ]
  },
  {
   "cell_type": "code",
   "execution_count": 93,
   "metadata": {},
   "outputs": [],
   "source": [
    "## adding entities\n",
    "for ent in ontology:\n",
    "    ner.add_label(ent)\n",
    "\n",
    "other_pipe = [pipe for pipe in nlp.pipe_names if pipe != 'ner']\n",
    "\n",
    "# Only training NER\n",
    "with nlp.disable_pipes(*other_pipe) :\n",
    "    if model is None:\n",
    "        optimizer = nlp.begin_training()\n",
    "    else:\n",
    "        optimizer = nlp.resume_training()"
   ]
  },
  {
   "cell_type": "markdown",
   "metadata": {},
   "source": [
    "### train the model"
   ]
  },
  {
   "cell_type": "code",
   "execution_count": 95,
   "metadata": {},
   "outputs": [
    {
     "name": "stdout",
     "output_type": "stream",
     "text": [
      "Starting iteration0\n"
     ]
    },
    {
     "ename": "TypeError",
     "evalue": "list indices must be integers or slices, not dict",
     "output_type": "error",
     "traceback": [
      "\u001b[0;31m---------------------------------------------------------------------------\u001b[0m",
      "\u001b[0;31mTypeError\u001b[0m                                 Traceback (most recent call last)",
      "\u001b[0;32m<ipython-input-95-158835b06ed5>\u001b[0m in \u001b[0;36m<module>\u001b[0;34m()\u001b[0m\n\u001b[1;32m      4\u001b[0m     \u001b[0;32mfor\u001b[0m \u001b[0mi\u001b[0m \u001b[0;32min\u001b[0m \u001b[0mdict_json_weighted\u001b[0m\u001b[0;34m[\u001b[0m\u001b[0mobject_1\u001b[0m\u001b[0;34m]\u001b[0m\u001b[0;34m[\u001b[0m\u001b[0;34m'log'\u001b[0m\u001b[0;34m]\u001b[0m\u001b[0;34m:\u001b[0m\u001b[0;34m\u001b[0m\u001b[0m\n\u001b[1;32m      5\u001b[0m         nlp.update(\n\u001b[0;32m----> 6\u001b[0;31m         \u001b[0;34m[\u001b[0m\u001b[0mdict_json_weighted\u001b[0m\u001b[0;34m[\u001b[0m\u001b[0mobject_1\u001b[0m\u001b[0;34m]\u001b[0m\u001b[0;34m[\u001b[0m\u001b[0;34m'log'\u001b[0m\u001b[0;34m]\u001b[0m\u001b[0;34m[\u001b[0m\u001b[0mi\u001b[0m\u001b[0;34m]\u001b[0m\u001b[0;34m[\u001b[0m\u001b[0;34m'metadata'\u001b[0m\u001b[0;34m]\u001b[0m\u001b[0;34m]\u001b[0m\u001b[0;34m,\u001b[0m\u001b[0;34m\u001b[0m\u001b[0m\n\u001b[0m\u001b[1;32m      7\u001b[0m         \u001b[0;34m[\u001b[0m\u001b[0mdict_json_weighted\u001b[0m\u001b[0;34m[\u001b[0m\u001b[0mobject_1\u001b[0m\u001b[0;34m]\u001b[0m\u001b[0;34m[\u001b[0m\u001b[0;34m'log'\u001b[0m\u001b[0;34m]\u001b[0m\u001b[0;34m[\u001b[0m\u001b[0mi\u001b[0m\u001b[0;34m]\u001b[0m\u001b[0;34m[\u001b[0m\u001b[0;34m'text'\u001b[0m\u001b[0;34m]\u001b[0m\u001b[0;34m]\u001b[0m\u001b[0;34m,\u001b[0m\u001b[0;34m\u001b[0m\u001b[0m\n\u001b[1;32m      8\u001b[0m         \u001b[0mdrop\u001b[0m \u001b[0;34m=\u001b[0m \u001b[0;36m0.2\u001b[0m\u001b[0;34m,\u001b[0m\u001b[0;34m\u001b[0m\u001b[0m\n",
      "\u001b[0;31mTypeError\u001b[0m: list indices must be integers or slices, not dict"
     ]
    }
   ],
   "source": [
    "for y in range(10) :\n",
    "    print(\"Starting iteration\" + str(y))\n",
    "    losses = {}\n",
    "    for i in dict_json_weighted[object_1]['log']:\n",
    "        nlp.update(\n",
    "        [dict_json_weighted[object_1]['log'][i]['metadata']],\n",
    "        [dict_json_weighted[object_1]['log'][i]['text']],\n",
    "        drop = 0.2,\n",
    "        sgd = optimizer,\n",
    "        losses = losses\n",
    "        )\n",
    "      #print(losses)\n",
    "new_model = nlp"
   ]
  }
 ],
 "metadata": {
  "kernelspec": {
   "display_name": "Python 3",
   "language": "python",
   "name": "python3"
  },
  "language_info": {
   "codemirror_mode": {
    "name": "ipython",
    "version": 3
   },
   "file_extension": ".py",
   "mimetype": "text/x-python",
   "name": "python",
   "nbconvert_exporter": "python",
   "pygments_lexer": "ipython3",
   "version": "3.5.2"
  }
 },
 "nbformat": 4,
 "nbformat_minor": 2
}
