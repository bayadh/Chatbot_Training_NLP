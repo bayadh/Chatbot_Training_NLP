{
 "cells": [
  {
   "cell_type": "code",
   "execution_count": 1,
   "metadata": {},
   "outputs": [
    {
     "name": "stdout",
     "output_type": "stream",
     "text": [
      "Requirement already satisfied: bs4 in /mnt/workspace/.local/lib/python3.5/site-packages (0.0.1)\n",
      "Requirement already satisfied: beautifulsoup4 in /mnt/workspace/.local/lib/python3.5/site-packages (from bs4) (4.8.1)\n",
      "Requirement already satisfied: soupsieve>=1.2 in /mnt/workspace/.local/lib/python3.5/site-packages (from beautifulsoup4->bs4) (1.9.5)\n",
      "\u001b[33mYou are using pip version 18.0, however version 19.3.1 is available.\n",
      "You should consider upgrading via the 'pip install --upgrade pip' command.\u001b[0m\n"
     ]
    }
   ],
   "source": [
    "import spacy\n",
    "from spacy import displacy\n",
    "from collections import Counter\n",
    "import en_core_web_sm\n",
    "#!pip install https://github.com/explosion/spacy-models/releases/download/en_core_web_sm-2.2.0/en_core_web_sm-2.2.0.tar.gz --user\n",
    "nlp = en_core_web_sm.load()\n",
    "import pandas as pd\n",
    "import json\n",
    "!pip install bs4 --user\n",
    "from bs4 import BeautifulSoup\n",
    "import requests\n",
    "import re\n",
    "import os\n",
    "import mmap"
   ]
  },
  {
   "cell_type": "markdown",
   "metadata": {},
   "source": [
    "## Load data"
   ]
  },
  {
   "cell_type": "code",
   "execution_count": 2,
   "metadata": {},
   "outputs": [
    {
     "name": "stdout",
     "output_type": "stream",
     "text": [
      "0-I'm looking for a 4 star hotel. \n",
      "1-I've found 21 4 star hotels. Is there a certain area you want to stay in?\n",
      "2-Yes, in the east, please. \n",
      "3-I have found several hotels. Do you have any preference towards price?\n",
      "4-I would not mind finding one with free wifi.\n",
      "5-Unfortunately, we don't have any hotels with those preference in the area, but we do have 6 guesthouses available. Would a guesthouse be okay?\n",
      "6-A guesthouse is fine. Which one would you recommend?\n",
      "7-I recommend the Leverton House. It's a cheap guesthouse, but still a 4-star establishment.\n",
      "8-That sounds good.  Can you give me the address and postcode for Leverton House?\n",
      "9-They are located at 732-734 newmarket road, and postcode is cb58rs\n",
      "10-Thank you. I'm also looking for a venetian restaurant on the east side as well. \n",
      "11-I'm sorry there are no Venetian restaurants. Are there any cuisines I can look for?\n",
      "12-Yes, how about one that serves Indian food?\n",
      "13-There are four restaurants that serve indian food in the east. Do you have a price range?\n",
      "14-Book one of them for 8 people at 14:15 on tuesday.\n",
      "15-Alright, I have you booked at Curry Prince. Your reference number is: 55UNFF8Z. Anything else I can do for you today?\n",
      "16-Yes, can you schedule a taxi to take me from Leverton House to Curry Prince? I need to get there by 14:15. \n",
      "17-Okay, your taxi car type is a white bmw and the contact number is 07967879848. Is there anything else you need?\n",
      "18-That is all.  Thank you\n",
      "19-Great! Enjoy your stay!\n"
     ]
    }
   ],
   "source": [
    "with open('data.json', 'r') as f:\n",
    "    dict_json_weighted = json.load(f)\n",
    "object_1 = list(dict_json_weighted.keys())[4]\n",
    "for i in range(len(dict_json_weighted[object_1]['log'])):\n",
    "    print(str(i)+\"-\"+dict_json_weighted[object_1]['log'][i]['text'])"
   ]
  },
  {
   "cell_type": "markdown",
   "metadata": {},
   "source": [
    "## Load ontology"
   ]
  },
  {
   "cell_type": "code",
   "execution_count": 3,
   "metadata": {},
   "outputs": [],
   "source": [
    "with open('ontology.json', 'r') as o:\n",
    "    ontology = json.load(o)\n",
    "action=['inform', 'request', 'select', 'recommend', 'not found', 'request booking', 'offer booking', \n",
    "        'inform booked', 'decline booking', 'welcome','greet', 'bye', 'reqmore' ]\n",
    "topic= ['hotel', 'restaurant', 'taxi', 'train', 'attraction', 'police', 'hospital']"
   ]
  },
  {
   "cell_type": "markdown",
   "metadata": {},
   "source": [
    "## display topics and actions"
   ]
  },
  {
   "cell_type": "code",
   "execution_count": 4,
   "metadata": {},
   "outputs": [
    {
     "name": "stdout",
     "output_type": "stream",
     "text": [
      "I'm looking for a 4 star hotel. \n",
      "I've found 21 4 star hotels. Is there a certain area you want to stay in?\n",
      "Yes, in the east, please. \n",
      "I have found several hotels. Do you have any preference towards price?\n",
      "I would not mind finding one with free wifi.\n",
      "Unfortunately, we don't have any hotels with those preference in the area, but we do have 6 guesthouses available. Would a guesthouse be okay?\n",
      "A guesthouse is fine. Which one would you recommend?\n",
      "I recommend the Leverton House. It's a cheap guesthouse, but still a 4-star establishment.\n",
      "That sounds good.  Can you give me the address and postcode for Leverton House?\n",
      "They are located at 732-734 newmarket road, and postcode is cb58rs\n",
      "Thank you. I'm also looking for a venetian restaurant on the east side as well. \n",
      "I'm sorry there are no Venetian restaurants. Are there any cuisines I can look for?\n",
      "Yes, how about one that serves Indian food?\n",
      "There are four restaurants that serve indian food in the east. Do you have a price range?\n",
      "Book one of them for 8 people at 14:15 on tuesday.\n",
      "Alright, I have you booked at Curry Prince. Your reference number is: 55UNFF8Z. Anything else I can do for you today?\n",
      "Yes, can you schedule a taxi to take me from Leverton House to Curry Prince? I need to get there by 14:15. \n",
      "Okay, your taxi car type is a white bmw and the contact number is 07967879848. Is there anything else you need?\n",
      "That is all.  Thank you\n",
      "Great! Enjoy your stay!\n",
      "topics: ['hotel', 'restaurant', 'taxi']\n",
      "actions: ['recommend']\n"
     ]
    }
   ],
   "source": [
    "top=[]\n",
    "act=[]\n",
    "ont=list(ontology.keys())\n",
    "for i in range(len(dict_json_weighted[object_1]['log'])):\n",
    "    print(dict_json_weighted[object_1]['log'][i]['text'])\n",
    "    sentence =nlp (dict_json_weighted[object_1]['log'][i]['text'])\n",
    "    for x in [y for y in sentence if y.pos_ != 'PUNCT']:\n",
    "        if str(x).lower() in topic:\n",
    "            if str(x).lower() not in top:\n",
    "                top.append(str(x).lower()) \n",
    "        if x.lemma_ in action:\n",
    "            if x.lemma_ not in act:\n",
    "                act.append(x.lemma_)\n",
    "                 \n",
    "print(\"topics: \"+str(top))\n",
    "print(\"actions: \"+str(act))\n"
   ]
  },
  {
   "cell_type": "markdown",
   "metadata": {},
   "source": [
    "## Display the updated slots "
   ]
  },
  {
   "cell_type": "code",
   "execution_count": 13,
   "metadata": {},
   "outputs": [
    {
     "name": "stdout",
     "output_type": "stream",
     "text": [
      "****** taxi ******\n",
      "°reqt\n",
      "['car type', 'phone']\n",
      "°info\n",
      "{'arriveBy': '14:15'}\n",
      "****** hotel ******\n",
      "°reqt\n",
      "['postcode', 'address', 'type']\n",
      "°info\n",
      "{'stars': '4', 'internet': 'yes', 'area': 'east'}\n",
      "°fail_info\n",
      "{'stars': '4', 'internet': 'no', 'area': 'east'}\n",
      "****** message ******\n",
      "['You are planning your trip in Cambridge', \"You are looking for a <span class='emphasis'>place to stay</span>. The hotel <span class='emphasis'>doesn't need to include internet</span> and should have <span class='emphasis'>a star of 4</span>\", \"The hotel should be in the <span class='emphasis'>east</span>\", \"If there is no such hotel, how about one that has <span class='emphasis'>free wifi</span>\", \"Make sure you get <span class='emphasis'>postcode</span>, <span class='emphasis'>address</span>, and <span class='emphasis'>hotel type</span>\", \"You are also looking for a <span class='emphasis'>restaurant</span>. The restaurant should serve <span class='emphasis'>venetian</span> food and should be <span class='emphasis'>in the same area as the hotel</span>\", \"The restaurant should be in the <span class='emphasis'>expensive</span> price range\", \"If there is no such restaurant, how about one that serves <span class='emphasis'>indian</span> food\", \"Once you find the <span class='emphasis'>restaurant</span> you want to book a table for <span class='emphasis'>8 people</span> at <span class='emphasis'>14:15</span> on <span class='emphasis'>tuesday</span>\", \"Make sure you get the <span class='emphasis'>reference number</span>\", \"You also want to book a <span class='emphasis'>taxi</span> to commute between the two places\", \"You want to make sure it arrives the restaurant <span class='emphasis'>by the booked time</span>\", \"Make sure you get <span class='emphasis'>contact number</span> and <span class='emphasis'>car type</span>\"]\n",
      "****** restaurant ******\n",
      "°book\n",
      "{'people': '8', 'invalid': False, 'day': 'tuesday', 'time': '14:15'}\n",
      "°info\n",
      "{'food': 'indian', 'pricerange': 'expensive', 'area': 'east'}\n",
      "°fail_info\n",
      "{'food': 'venetian', 'pricerange': 'expensive', 'area': 'east'}\n"
     ]
    }
   ],
   "source": [
    "for i in dict_json_weighted[object_1]['goal']:\n",
    "    if i!='message':\n",
    "        if dict_json_weighted[object_1]['goal'][i] !={}:\n",
    "            print(\"****** \"+i+\" ******\")\n",
    "            for j in (dict_json_weighted[object_1]['goal'][i]):\n",
    "                if dict_json_weighted[object_1]['goal'][i][j] not in ['fail_info', {}]:\n",
    "                    print(\"°\"+j)\n",
    "                    print(dict_json_weighted[object_1]['goal'][i][j])\n",
    "    else:\n",
    "        print(\"****** \"+i+\" ******\")\n",
    "        print(dict_json_weighted[object_1]['goal'][i])"
   ]
  },
  {
   "cell_type": "code",
   "execution_count": 16,
   "metadata": {},
   "outputs": [
    {
     "name": "stdout",
     "output_type": "stream",
     "text": [
      "MUL1362.\n"
     ]
    }
   ],
   "source": [
    "s= \"MUL1362.json0\"\n",
    "print (s[:-5])"
   ]
  },
  {
   "cell_type": "markdown",
   "metadata": {},
   "source": [
    "## NER then write into files  "
   ]
  },
  {
   "cell_type": "code",
   "execution_count": 101,
   "metadata": {},
   "outputs": [
    {
     "name": "stdout",
     "output_type": "stream",
     "text": [
      "0-I'm looking for a 4 star hotel. \n",
      "[('4', 'CARDINAL')]\n"
     ]
    },
    {
     "data": {
      "text/html": [
       "<div class=\"entities\" style=\"line-height: 2.5; direction: ltr\">I'm looking for a \n",
       "<mark class=\"entity\" style=\"background: #e4e7d2; padding: 0.45em 0.6em; margin: 0 0.25em; line-height: 1; border-radius: 0.35em;\">\n",
       "    4\n",
       "    <span style=\"font-size: 0.8em; font-weight: bold; line-height: 1; border-radius: 0.35em; text-transform: uppercase; vertical-align: middle; margin-left: 0.5rem\">CARDINAL</span>\n",
       "</mark>\n",
       " star hotel. </div>"
      ],
      "text/plain": [
       "<IPython.core.display.HTML object>"
      ]
     },
     "metadata": {},
     "output_type": "display_data"
    },
    {
     "name": "stdout",
     "output_type": "stream",
     "text": [
      "('I', 'PRON', '-PRON-')\n",
      "(\"'m\", 'AUX', 'be')\n",
      "('looking', 'VERB', 'look')\n",
      "('for', 'ADP', 'for')\n",
      "('a', 'DET', 'a')\n",
      "('4', 'NUM', '4')\n",
      "('star', 'NOUN', 'star')\n",
      "('hotel', 'NOUN', 'hotel')\n",
      "******************************************************\n",
      "1-I've found 21 4 star hotels. Is there a certain area you want to stay in?\n",
      "[('21', 'CARDINAL')]\n",
      "[('4', 'CARDINAL')]\n"
     ]
    },
    {
     "data": {
      "text/html": [
       "<div class=\"entities\" style=\"line-height: 2.5; direction: ltr\">I've found \n",
       "<mark class=\"entity\" style=\"background: #e4e7d2; padding: 0.45em 0.6em; margin: 0 0.25em; line-height: 1; border-radius: 0.35em;\">\n",
       "    21\n",
       "    <span style=\"font-size: 0.8em; font-weight: bold; line-height: 1; border-radius: 0.35em; text-transform: uppercase; vertical-align: middle; margin-left: 0.5rem\">CARDINAL</span>\n",
       "</mark>\n",
       " \n",
       "<mark class=\"entity\" style=\"background: #e4e7d2; padding: 0.45em 0.6em; margin: 0 0.25em; line-height: 1; border-radius: 0.35em;\">\n",
       "    4\n",
       "    <span style=\"font-size: 0.8em; font-weight: bold; line-height: 1; border-radius: 0.35em; text-transform: uppercase; vertical-align: middle; margin-left: 0.5rem\">CARDINAL</span>\n",
       "</mark>\n",
       " star hotels. Is there a certain area you want to stay in?</div>"
      ],
      "text/plain": [
       "<IPython.core.display.HTML object>"
      ]
     },
     "metadata": {},
     "output_type": "display_data"
    },
    {
     "name": "stdout",
     "output_type": "stream",
     "text": [
      "('I', 'PRON', '-PRON-')\n",
      "(\"'ve\", 'AUX', 'have')\n",
      "('found', 'VERB', 'find')\n",
      "('21', 'NUM', '21')\n",
      "('4', 'NUM', '4')\n",
      "('star', 'NOUN', 'star')\n",
      "('hotels', 'NOUN', 'hotel')\n",
      "('Is', 'AUX', 'be')\n",
      "('there', 'PRON', 'there')\n",
      "('a', 'DET', 'a')\n",
      "('certain', 'ADJ', 'certain')\n",
      "('area', 'NOUN', 'area')\n",
      "('you', 'PRON', '-PRON-')\n",
      "('want', 'VERB', 'want')\n",
      "('to', 'PART', 'to')\n",
      "('stay', 'VERB', 'stay')\n",
      "('in', 'ADV', 'in')\n",
      "******************************************************\n",
      "2-Yes, in the east, please. \n"
     ]
    },
    {
     "name": "stderr",
     "output_type": "stream",
     "text": [
      "/usr/lib/python3.5/runpy.py:184: UserWarning: [W006] No entities to visualize found in Doc object. If this is surprising to you, make sure the Doc was processed using a model that supports named entity recognition, and check the `doc.ents` property manually if necessary.\n",
      "  \"__main__\", mod_spec)\n"
     ]
    },
    {
     "data": {
      "text/html": [
       "<div class=\"entities\" style=\"line-height: 2.5; direction: ltr\">Yes, in the east, please. </div>"
      ],
      "text/plain": [
       "<IPython.core.display.HTML object>"
      ]
     },
     "metadata": {},
     "output_type": "display_data"
    },
    {
     "name": "stdout",
     "output_type": "stream",
     "text": [
      "('Yes', 'INTJ', 'yes')\n",
      "('in', 'ADP', 'in')\n",
      "('the', 'DET', 'the')\n",
      "('east', 'NOUN', 'east')\n",
      "('please', 'INTJ', 'please')\n",
      "******************************************************\n",
      "3-I have found several hotels. Do you have any preference towards price?\n"
     ]
    },
    {
     "name": "stderr",
     "output_type": "stream",
     "text": [
      "/usr/lib/python3.5/runpy.py:184: UserWarning: [W006] No entities to visualize found in Doc object. If this is surprising to you, make sure the Doc was processed using a model that supports named entity recognition, and check the `doc.ents` property manually if necessary.\n",
      "  \"__main__\", mod_spec)\n"
     ]
    },
    {
     "data": {
      "text/html": [
       "<div class=\"entities\" style=\"line-height: 2.5; direction: ltr\">I have found several hotels. Do you have any preference towards price?</div>"
      ],
      "text/plain": [
       "<IPython.core.display.HTML object>"
      ]
     },
     "metadata": {},
     "output_type": "display_data"
    },
    {
     "name": "stdout",
     "output_type": "stream",
     "text": [
      "('I', 'PRON', '-PRON-')\n",
      "('have', 'AUX', 'have')\n",
      "('found', 'VERB', 'find')\n",
      "('several', 'ADJ', 'several')\n",
      "('hotels', 'NOUN', 'hotel')\n",
      "('Do', 'AUX', 'do')\n",
      "('you', 'PRON', '-PRON-')\n",
      "('have', 'AUX', 'have')\n",
      "('any', 'DET', 'any')\n",
      "('preference', 'NOUN', 'preference')\n",
      "('towards', 'ADP', 'towards')\n",
      "('price', 'NOUN', 'price')\n",
      "******************************************************\n",
      "4-I would not mind finding one with free wifi.\n"
     ]
    },
    {
     "name": "stderr",
     "output_type": "stream",
     "text": [
      "/usr/lib/python3.5/runpy.py:184: UserWarning: [W006] No entities to visualize found in Doc object. If this is surprising to you, make sure the Doc was processed using a model that supports named entity recognition, and check the `doc.ents` property manually if necessary.\n",
      "  \"__main__\", mod_spec)\n"
     ]
    },
    {
     "data": {
      "text/html": [
       "<div class=\"entities\" style=\"line-height: 2.5; direction: ltr\">I would not mind finding one with free wifi.</div>"
      ],
      "text/plain": [
       "<IPython.core.display.HTML object>"
      ]
     },
     "metadata": {},
     "output_type": "display_data"
    },
    {
     "name": "stdout",
     "output_type": "stream",
     "text": [
      "('I', 'PRON', '-PRON-')\n",
      "('would', 'AUX', 'would')\n",
      "('not', 'PART', 'not')\n",
      "('mind', 'VERB', 'mind')\n",
      "('finding', 'VERB', 'find')\n",
      "('one', 'NUM', 'one')\n",
      "('with', 'ADP', 'with')\n",
      "('free', 'ADJ', 'free')\n",
      "('wifi', 'NOUN', 'wifi')\n",
      "******************************************************\n",
      "5-Unfortunately, we don't have any hotels with those preference in the area, but we do have 6 guesthouses available. Would a guesthouse be okay?\n",
      "[('6', 'CARDINAL')]\n"
     ]
    },
    {
     "data": {
      "text/html": [
       "<div class=\"entities\" style=\"line-height: 2.5; direction: ltr\">Unfortunately, we don't have any hotels with those preference in the area, but we do have \n",
       "<mark class=\"entity\" style=\"background: #e4e7d2; padding: 0.45em 0.6em; margin: 0 0.25em; line-height: 1; border-radius: 0.35em;\">\n",
       "    6\n",
       "    <span style=\"font-size: 0.8em; font-weight: bold; line-height: 1; border-radius: 0.35em; text-transform: uppercase; vertical-align: middle; margin-left: 0.5rem\">CARDINAL</span>\n",
       "</mark>\n",
       " guesthouses available. Would a guesthouse be okay?</div>"
      ],
      "text/plain": [
       "<IPython.core.display.HTML object>"
      ]
     },
     "metadata": {},
     "output_type": "display_data"
    },
    {
     "name": "stdout",
     "output_type": "stream",
     "text": [
      "('Unfortunately', 'ADV', 'unfortunately')\n",
      "('we', 'PRON', '-PRON-')\n",
      "('do', 'AUX', 'do')\n",
      "(\"n't\", 'PART', 'not')\n",
      "('have', 'AUX', 'have')\n",
      "('any', 'DET', 'any')\n",
      "('hotels', 'NOUN', 'hotel')\n",
      "('with', 'ADP', 'with')\n",
      "('those', 'DET', 'those')\n",
      "('preference', 'NOUN', 'preference')\n",
      "('in', 'ADP', 'in')\n",
      "('the', 'DET', 'the')\n",
      "('area', 'NOUN', 'area')\n",
      "('but', 'CCONJ', 'but')\n",
      "('we', 'PRON', '-PRON-')\n",
      "('do', 'AUX', 'do')\n",
      "('have', 'AUX', 'have')\n",
      "('6', 'NUM', '6')\n",
      "('guesthouses', 'NOUN', 'guesthouse')\n",
      "('available', 'ADJ', 'available')\n",
      "('Would', 'AUX', 'would')\n",
      "('a', 'DET', 'a')\n",
      "('guesthouse', 'NOUN', 'guesthouse')\n",
      "('be', 'AUX', 'be')\n",
      "('okay', 'ADJ', 'okay')\n",
      "******************************************************\n",
      "6-A guesthouse is fine. Which one would you recommend?\n"
     ]
    },
    {
     "name": "stderr",
     "output_type": "stream",
     "text": [
      "/usr/lib/python3.5/runpy.py:184: UserWarning: [W006] No entities to visualize found in Doc object. If this is surprising to you, make sure the Doc was processed using a model that supports named entity recognition, and check the `doc.ents` property manually if necessary.\n",
      "  \"__main__\", mod_spec)\n"
     ]
    },
    {
     "data": {
      "text/html": [
       "<div class=\"entities\" style=\"line-height: 2.5; direction: ltr\">A guesthouse is fine. Which one would you recommend?</div>"
      ],
      "text/plain": [
       "<IPython.core.display.HTML object>"
      ]
     },
     "metadata": {},
     "output_type": "display_data"
    },
    {
     "name": "stdout",
     "output_type": "stream",
     "text": [
      "('A', 'DET', 'a')\n",
      "('guesthouse', 'NOUN', 'guesthouse')\n",
      "('is', 'AUX', 'be')\n",
      "('fine', 'ADJ', 'fine')\n",
      "('Which', 'PRON', 'which')\n",
      "('one', 'NOUN', 'one')\n",
      "('would', 'AUX', 'would')\n",
      "('you', 'PRON', '-PRON-')\n",
      "('recommend', 'VERB', 'recommend')\n",
      "******************************************************\n",
      "7-I recommend the Leverton House. It's a cheap guesthouse, but still a 4-star establishment.\n",
      "[('the Leverton House', 'ORG')]\n"
     ]
    },
    {
     "data": {
      "text/html": [
       "<div class=\"entities\" style=\"line-height: 2.5; direction: ltr\">I recommend \n",
       "<mark class=\"entity\" style=\"background: #7aecec; padding: 0.45em 0.6em; margin: 0 0.25em; line-height: 1; border-radius: 0.35em;\">\n",
       "    the Leverton House\n",
       "    <span style=\"font-size: 0.8em; font-weight: bold; line-height: 1; border-radius: 0.35em; text-transform: uppercase; vertical-align: middle; margin-left: 0.5rem\">ORG</span>\n",
       "</mark>\n",
       ". It's a cheap guesthouse, but still a 4-star establishment.</div>"
      ],
      "text/plain": [
       "<IPython.core.display.HTML object>"
      ]
     },
     "metadata": {},
     "output_type": "display_data"
    },
    {
     "name": "stdout",
     "output_type": "stream",
     "text": [
      "('I', 'PRON', '-PRON-')\n",
      "('recommend', 'VERB', 'recommend')\n",
      "('the', 'DET', 'the')\n",
      "('Leverton', 'PROPN', 'Leverton')\n",
      "('House', 'PROPN', 'House')\n",
      "('It', 'PRON', '-PRON-')\n",
      "(\"'s\", 'AUX', 'be')\n",
      "('a', 'DET', 'a')\n",
      "('cheap', 'ADJ', 'cheap')\n",
      "('guesthouse', 'NOUN', 'guesthouse')\n",
      "('but', 'CCONJ', 'but')\n",
      "('still', 'ADV', 'still')\n",
      "('a', 'DET', 'a')\n",
      "('4-star', 'NUM', '4-star')\n",
      "('establishment', 'NOUN', 'establishment')\n",
      "******************************************************\n",
      "8-That sounds good.  Can you give me the address and postcode for Leverton House?\n",
      "[('Leverton House', 'ORG')]\n"
     ]
    },
    {
     "data": {
      "text/html": [
       "<div class=\"entities\" style=\"line-height: 2.5; direction: ltr\">That sounds good.  Can you give me the address and postcode for \n",
       "<mark class=\"entity\" style=\"background: #7aecec; padding: 0.45em 0.6em; margin: 0 0.25em; line-height: 1; border-radius: 0.35em;\">\n",
       "    Leverton House\n",
       "    <span style=\"font-size: 0.8em; font-weight: bold; line-height: 1; border-radius: 0.35em; text-transform: uppercase; vertical-align: middle; margin-left: 0.5rem\">ORG</span>\n",
       "</mark>\n",
       "?</div>"
      ],
      "text/plain": [
       "<IPython.core.display.HTML object>"
      ]
     },
     "metadata": {},
     "output_type": "display_data"
    },
    {
     "name": "stdout",
     "output_type": "stream",
     "text": [
      "('That', 'DET', 'that')\n",
      "('sounds', 'VERB', 'sound')\n",
      "('good', 'ADJ', 'good')\n",
      "(' ', 'SPACE', ' ')\n",
      "('Can', 'AUX', 'can')\n",
      "('you', 'PRON', '-PRON-')\n",
      "('give', 'VERB', 'give')\n",
      "('me', 'PRON', '-PRON-')\n",
      "('the', 'DET', 'the')\n",
      "('address', 'NOUN', 'address')\n",
      "('and', 'CCONJ', 'and')\n",
      "('postcode', 'NOUN', 'postcode')\n",
      "('for', 'ADP', 'for')\n",
      "('Leverton', 'PROPN', 'Leverton')\n",
      "('House', 'PROPN', 'House')\n",
      "******************************************************\n",
      "9-They are located at 732-734 newmarket road, and postcode is cb58rs\n",
      "[('732-734', 'CARDINAL')]\n"
     ]
    },
    {
     "data": {
      "text/html": [
       "<div class=\"entities\" style=\"line-height: 2.5; direction: ltr\">They are located at \n",
       "<mark class=\"entity\" style=\"background: #e4e7d2; padding: 0.45em 0.6em; margin: 0 0.25em; line-height: 1; border-radius: 0.35em;\">\n",
       "    732-734\n",
       "    <span style=\"font-size: 0.8em; font-weight: bold; line-height: 1; border-radius: 0.35em; text-transform: uppercase; vertical-align: middle; margin-left: 0.5rem\">CARDINAL</span>\n",
       "</mark>\n",
       " newmarket road, and postcode is cb58rs</div>"
      ],
      "text/plain": [
       "<IPython.core.display.HTML object>"
      ]
     },
     "metadata": {},
     "output_type": "display_data"
    },
    {
     "name": "stdout",
     "output_type": "stream",
     "text": [
      "('They', 'PRON', '-PRON-')\n",
      "('are', 'AUX', 'be')\n",
      "('located', 'VERB', 'locate')\n",
      "('at', 'ADP', 'at')\n",
      "('732', 'NUM', '732')\n",
      "('-', 'SYM', '-')\n",
      "('734', 'NUM', '734')\n",
      "('newmarket', 'NOUN', 'newmarket')\n",
      "('road', 'NOUN', 'road')\n",
      "('and', 'CCONJ', 'and')\n",
      "('postcode', 'PROPN', 'postcode')\n",
      "('is', 'AUX', 'be')\n",
      "('cb58rs', 'VERB', 'cb58r')\n",
      "******************************************************\n",
      "10-Thank you. I'm also looking for a venetian restaurant on the east side as well. \n"
     ]
    },
    {
     "name": "stderr",
     "output_type": "stream",
     "text": [
      "/usr/lib/python3.5/runpy.py:184: UserWarning: [W006] No entities to visualize found in Doc object. If this is surprising to you, make sure the Doc was processed using a model that supports named entity recognition, and check the `doc.ents` property manually if necessary.\n",
      "  \"__main__\", mod_spec)\n"
     ]
    },
    {
     "data": {
      "text/html": [
       "<div class=\"entities\" style=\"line-height: 2.5; direction: ltr\">Thank you. I'm also looking for a venetian restaurant on the east side as well. </div>"
      ],
      "text/plain": [
       "<IPython.core.display.HTML object>"
      ]
     },
     "metadata": {},
     "output_type": "display_data"
    },
    {
     "name": "stdout",
     "output_type": "stream",
     "text": [
      "('Thank', 'VERB', 'thank')\n",
      "('you', 'PRON', '-PRON-')\n",
      "('I', 'PRON', '-PRON-')\n",
      "(\"'m\", 'AUX', 'be')\n",
      "('also', 'ADV', 'also')\n",
      "('looking', 'VERB', 'look')\n",
      "('for', 'ADP', 'for')\n",
      "('a', 'DET', 'a')\n",
      "('venetian', 'ADJ', 'venetian')\n",
      "('restaurant', 'NOUN', 'restaurant')\n",
      "('on', 'ADP', 'on')\n",
      "('the', 'DET', 'the')\n",
      "('east', 'ADJ', 'east')\n",
      "('side', 'NOUN', 'side')\n",
      "('as', 'ADV', 'as')\n",
      "('well', 'ADV', 'well')\n",
      "******************************************************\n",
      "11-I'm sorry there are no Venetian restaurants. Are there any cuisines I can look for?\n",
      "[('Venetian', 'NORP')]\n"
     ]
    },
    {
     "data": {
      "text/html": [
       "<div class=\"entities\" style=\"line-height: 2.5; direction: ltr\">I'm sorry there are no \n",
       "<mark class=\"entity\" style=\"background: #c887fb; padding: 0.45em 0.6em; margin: 0 0.25em; line-height: 1; border-radius: 0.35em;\">\n",
       "    Venetian\n",
       "    <span style=\"font-size: 0.8em; font-weight: bold; line-height: 1; border-radius: 0.35em; text-transform: uppercase; vertical-align: middle; margin-left: 0.5rem\">NORP</span>\n",
       "</mark>\n",
       " restaurants. Are there any cuisines I can look for?</div>"
      ],
      "text/plain": [
       "<IPython.core.display.HTML object>"
      ]
     },
     "metadata": {},
     "output_type": "display_data"
    },
    {
     "name": "stdout",
     "output_type": "stream",
     "text": [
      "('I', 'PRON', '-PRON-')\n",
      "(\"'m\", 'AUX', 'be')\n",
      "('sorry', 'ADJ', 'sorry')\n",
      "('there', 'PRON', 'there')\n",
      "('are', 'AUX', 'be')\n",
      "('no', 'DET', 'no')\n",
      "('Venetian', 'ADJ', 'venetian')\n",
      "('restaurants', 'NOUN', 'restaurant')\n",
      "('Are', 'AUX', 'be')\n",
      "('there', 'PRON', 'there')\n",
      "('any', 'DET', 'any')\n",
      "('cuisines', 'NOUN', 'cuisine')\n",
      "('I', 'PRON', '-PRON-')\n",
      "('can', 'AUX', 'can')\n",
      "('look', 'VERB', 'look')\n",
      "('for', 'ADP', 'for')\n",
      "******************************************************\n",
      "12-Yes, how about one that serves Indian food?\n",
      "[('about one', 'CARDINAL')]\n",
      "[('Indian', 'NORP')]\n"
     ]
    },
    {
     "data": {
      "text/html": [
       "<div class=\"entities\" style=\"line-height: 2.5; direction: ltr\">Yes, how \n",
       "<mark class=\"entity\" style=\"background: #e4e7d2; padding: 0.45em 0.6em; margin: 0 0.25em; line-height: 1; border-radius: 0.35em;\">\n",
       "    about one\n",
       "    <span style=\"font-size: 0.8em; font-weight: bold; line-height: 1; border-radius: 0.35em; text-transform: uppercase; vertical-align: middle; margin-left: 0.5rem\">CARDINAL</span>\n",
       "</mark>\n",
       " that serves \n",
       "<mark class=\"entity\" style=\"background: #c887fb; padding: 0.45em 0.6em; margin: 0 0.25em; line-height: 1; border-radius: 0.35em;\">\n",
       "    Indian\n",
       "    <span style=\"font-size: 0.8em; font-weight: bold; line-height: 1; border-radius: 0.35em; text-transform: uppercase; vertical-align: middle; margin-left: 0.5rem\">NORP</span>\n",
       "</mark>\n",
       " food?</div>"
      ],
      "text/plain": [
       "<IPython.core.display.HTML object>"
      ]
     },
     "metadata": {},
     "output_type": "display_data"
    },
    {
     "name": "stdout",
     "output_type": "stream",
     "text": [
      "('Yes', 'INTJ', 'yes')\n",
      "('how', 'ADV', 'how')\n",
      "('about', 'ADP', 'about')\n",
      "('one', 'NOUN', 'one')\n",
      "('that', 'PRON', 'that')\n",
      "('serves', 'VERB', 'serve')\n",
      "('Indian', 'ADJ', 'indian')\n",
      "('food', 'NOUN', 'food')\n",
      "******************************************************\n",
      "13-There are four restaurants that serve indian food in the east. Do you have a price range?\n",
      "[('four', 'CARDINAL')]\n",
      "[('indian', 'NORP')]\n"
     ]
    },
    {
     "data": {
      "text/html": [
       "<div class=\"entities\" style=\"line-height: 2.5; direction: ltr\">There are \n",
       "<mark class=\"entity\" style=\"background: #e4e7d2; padding: 0.45em 0.6em; margin: 0 0.25em; line-height: 1; border-radius: 0.35em;\">\n",
       "    four\n",
       "    <span style=\"font-size: 0.8em; font-weight: bold; line-height: 1; border-radius: 0.35em; text-transform: uppercase; vertical-align: middle; margin-left: 0.5rem\">CARDINAL</span>\n",
       "</mark>\n",
       " restaurants that serve \n",
       "<mark class=\"entity\" style=\"background: #c887fb; padding: 0.45em 0.6em; margin: 0 0.25em; line-height: 1; border-radius: 0.35em;\">\n",
       "    indian\n",
       "    <span style=\"font-size: 0.8em; font-weight: bold; line-height: 1; border-radius: 0.35em; text-transform: uppercase; vertical-align: middle; margin-left: 0.5rem\">NORP</span>\n",
       "</mark>\n",
       " food in the east. Do you have a price range?</div>"
      ],
      "text/plain": [
       "<IPython.core.display.HTML object>"
      ]
     },
     "metadata": {},
     "output_type": "display_data"
    },
    {
     "name": "stdout",
     "output_type": "stream",
     "text": [
      "('There', 'PRON', 'there')\n",
      "('are', 'AUX', 'be')\n",
      "('four', 'NUM', 'four')\n",
      "('restaurants', 'NOUN', 'restaurant')\n",
      "('that', 'PRON', 'that')\n",
      "('serve', 'VERB', 'serve')\n",
      "('indian', 'ADJ', 'indian')\n",
      "('food', 'NOUN', 'food')\n",
      "('in', 'ADP', 'in')\n",
      "('the', 'DET', 'the')\n",
      "('east', 'NOUN', 'east')\n",
      "('Do', 'AUX', 'do')\n",
      "('you', 'PRON', '-PRON-')\n",
      "('have', 'AUX', 'have')\n",
      "('a', 'DET', 'a')\n",
      "('price', 'NOUN', 'price')\n",
      "('range', 'NOUN', 'range')\n",
      "******************************************************\n",
      "14-Book one of them for 8 people at 14:15 on tuesday.\n",
      "[('one', 'CARDINAL')]\n",
      "[('8', 'CARDINAL')]\n",
      "[('14:15', 'CARDINAL')]\n",
      "[('tuesday', 'DATE')]\n"
     ]
    },
    {
     "data": {
      "text/html": [
       "<div class=\"entities\" style=\"line-height: 2.5; direction: ltr\">Book \n",
       "<mark class=\"entity\" style=\"background: #e4e7d2; padding: 0.45em 0.6em; margin: 0 0.25em; line-height: 1; border-radius: 0.35em;\">\n",
       "    one\n",
       "    <span style=\"font-size: 0.8em; font-weight: bold; line-height: 1; border-radius: 0.35em; text-transform: uppercase; vertical-align: middle; margin-left: 0.5rem\">CARDINAL</span>\n",
       "</mark>\n",
       " of them for \n",
       "<mark class=\"entity\" style=\"background: #e4e7d2; padding: 0.45em 0.6em; margin: 0 0.25em; line-height: 1; border-radius: 0.35em;\">\n",
       "    8\n",
       "    <span style=\"font-size: 0.8em; font-weight: bold; line-height: 1; border-radius: 0.35em; text-transform: uppercase; vertical-align: middle; margin-left: 0.5rem\">CARDINAL</span>\n",
       "</mark>\n",
       " people at \n",
       "<mark class=\"entity\" style=\"background: #e4e7d2; padding: 0.45em 0.6em; margin: 0 0.25em; line-height: 1; border-radius: 0.35em;\">\n",
       "    14:15\n",
       "    <span style=\"font-size: 0.8em; font-weight: bold; line-height: 1; border-radius: 0.35em; text-transform: uppercase; vertical-align: middle; margin-left: 0.5rem\">CARDINAL</span>\n",
       "</mark>\n",
       " on \n",
       "<mark class=\"entity\" style=\"background: #bfe1d9; padding: 0.45em 0.6em; margin: 0 0.25em; line-height: 1; border-radius: 0.35em;\">\n",
       "    tuesday\n",
       "    <span style=\"font-size: 0.8em; font-weight: bold; line-height: 1; border-radius: 0.35em; text-transform: uppercase; vertical-align: middle; margin-left: 0.5rem\">DATE</span>\n",
       "</mark>\n",
       ".</div>"
      ],
      "text/plain": [
       "<IPython.core.display.HTML object>"
      ]
     },
     "metadata": {},
     "output_type": "display_data"
    },
    {
     "name": "stdout",
     "output_type": "stream",
     "text": [
      "('Book', 'PROPN', 'Book')\n",
      "('one', 'NUM', 'one')\n",
      "('of', 'ADP', 'of')\n",
      "('them', 'PRON', '-PRON-')\n",
      "('for', 'ADP', 'for')\n",
      "('8', 'NUM', '8')\n",
      "('people', 'NOUN', 'people')\n",
      "('at', 'ADP', 'at')\n",
      "('14:15', 'NUM', '14:15')\n",
      "('on', 'ADP', 'on')\n",
      "('tuesday', 'PROPN', 'tuesday')\n",
      "******************************************************\n",
      "15-Alright, I have you booked at Curry Prince. Your reference number is: 55UNFF8Z. Anything else I can do for you today?\n",
      "[('Curry Prince', 'FAC')]\n",
      "[('today', 'DATE')]\n"
     ]
    },
    {
     "data": {
      "text/html": [
       "<div class=\"entities\" style=\"line-height: 2.5; direction: ltr\">Alright, I have you booked at \n",
       "<mark class=\"entity\" style=\"background: #ddd; padding: 0.45em 0.6em; margin: 0 0.25em; line-height: 1; border-radius: 0.35em;\">\n",
       "    Curry Prince\n",
       "    <span style=\"font-size: 0.8em; font-weight: bold; line-height: 1; border-radius: 0.35em; text-transform: uppercase; vertical-align: middle; margin-left: 0.5rem\">FAC</span>\n",
       "</mark>\n",
       ". Your reference number is: 55UNFF8Z. Anything else I can do for you \n",
       "<mark class=\"entity\" style=\"background: #bfe1d9; padding: 0.45em 0.6em; margin: 0 0.25em; line-height: 1; border-radius: 0.35em;\">\n",
       "    today\n",
       "    <span style=\"font-size: 0.8em; font-weight: bold; line-height: 1; border-radius: 0.35em; text-transform: uppercase; vertical-align: middle; margin-left: 0.5rem\">DATE</span>\n",
       "</mark>\n",
       "?</div>"
      ],
      "text/plain": [
       "<IPython.core.display.HTML object>"
      ]
     },
     "metadata": {},
     "output_type": "display_data"
    },
    {
     "name": "stdout",
     "output_type": "stream",
     "text": [
      "('Alright', 'INTJ', 'alright')\n",
      "('I', 'PRON', '-PRON-')\n",
      "('have', 'AUX', 'have')\n",
      "('you', 'PRON', '-PRON-')\n",
      "('booked', 'VERB', 'book')\n",
      "('at', 'ADP', 'at')\n",
      "('Curry', 'PROPN', 'Curry')\n",
      "('Prince', 'PROPN', 'Prince')\n",
      "('Your', 'PRON', '-PRON-')\n",
      "('reference', 'NOUN', 'reference')\n",
      "('number', 'NOUN', 'number')\n",
      "('is', 'AUX', 'be')\n",
      "('55UNFF8Z.', 'X', '55unff8z.')\n",
      "('Anything', 'PRON', 'anything')\n",
      "('else', 'ADV', 'else')\n",
      "('I', 'PRON', '-PRON-')\n",
      "('can', 'AUX', 'can')\n",
      "('do', 'AUX', 'do')\n",
      "('for', 'ADP', 'for')\n",
      "('you', 'PRON', '-PRON-')\n",
      "('today', 'NOUN', 'today')\n",
      "******************************************************\n",
      "16-Yes, can you schedule a taxi to take me from Leverton House to Curry Prince? I need to get there by 14:15. \n",
      "[('Leverton House', 'ORG')]\n",
      "[('Curry Prince', 'PERSON')]\n",
      "[('14:15', 'DATE')]\n"
     ]
    },
    {
     "data": {
      "text/html": [
       "<div class=\"entities\" style=\"line-height: 2.5; direction: ltr\">Yes, can you schedule a taxi to take me from \n",
       "<mark class=\"entity\" style=\"background: #7aecec; padding: 0.45em 0.6em; margin: 0 0.25em; line-height: 1; border-radius: 0.35em;\">\n",
       "    Leverton House\n",
       "    <span style=\"font-size: 0.8em; font-weight: bold; line-height: 1; border-radius: 0.35em; text-transform: uppercase; vertical-align: middle; margin-left: 0.5rem\">ORG</span>\n",
       "</mark>\n",
       " to \n",
       "<mark class=\"entity\" style=\"background: #aa9cfc; padding: 0.45em 0.6em; margin: 0 0.25em; line-height: 1; border-radius: 0.35em;\">\n",
       "    Curry Prince\n",
       "    <span style=\"font-size: 0.8em; font-weight: bold; line-height: 1; border-radius: 0.35em; text-transform: uppercase; vertical-align: middle; margin-left: 0.5rem\">PERSON</span>\n",
       "</mark>\n",
       "? I need to get there by \n",
       "<mark class=\"entity\" style=\"background: #bfe1d9; padding: 0.45em 0.6em; margin: 0 0.25em; line-height: 1; border-radius: 0.35em;\">\n",
       "    14:15\n",
       "    <span style=\"font-size: 0.8em; font-weight: bold; line-height: 1; border-radius: 0.35em; text-transform: uppercase; vertical-align: middle; margin-left: 0.5rem\">DATE</span>\n",
       "</mark>\n",
       ". </div>"
      ],
      "text/plain": [
       "<IPython.core.display.HTML object>"
      ]
     },
     "metadata": {},
     "output_type": "display_data"
    },
    {
     "name": "stdout",
     "output_type": "stream",
     "text": [
      "('Yes', 'INTJ', 'yes')\n",
      "('can', 'AUX', 'can')\n",
      "('you', 'PRON', '-PRON-')\n",
      "('schedule', 'VERB', 'schedule')\n",
      "('a', 'DET', 'a')\n",
      "('taxi', 'NOUN', 'taxi')\n",
      "('to', 'PART', 'to')\n",
      "('take', 'VERB', 'take')\n",
      "('me', 'PRON', '-PRON-')\n",
      "('from', 'ADP', 'from')\n",
      "('Leverton', 'PROPN', 'Leverton')\n",
      "('House', 'PROPN', 'House')\n",
      "('to', 'ADP', 'to')\n",
      "('Curry', 'VERB', 'curry')\n",
      "('Prince', 'PROPN', 'Prince')\n",
      "('I', 'PRON', '-PRON-')\n",
      "('need', 'VERB', 'need')\n",
      "('to', 'PART', 'to')\n",
      "('get', 'AUX', 'get')\n",
      "('there', 'ADV', 'there')\n",
      "('by', 'ADP', 'by')\n",
      "('14:15', 'NUM', '14:15')\n",
      "******************************************************\n",
      "17-Okay, your taxi car type is a white bmw and the contact number is 07967879848. Is there anything else you need?\n"
     ]
    },
    {
     "name": "stderr",
     "output_type": "stream",
     "text": [
      "/usr/lib/python3.5/runpy.py:184: UserWarning: [W006] No entities to visualize found in Doc object. If this is surprising to you, make sure the Doc was processed using a model that supports named entity recognition, and check the `doc.ents` property manually if necessary.\n",
      "  \"__main__\", mod_spec)\n"
     ]
    },
    {
     "data": {
      "text/html": [
       "<div class=\"entities\" style=\"line-height: 2.5; direction: ltr\">Okay, your taxi car type is a white bmw and the contact number is 07967879848. Is there anything else you need?</div>"
      ],
      "text/plain": [
       "<IPython.core.display.HTML object>"
      ]
     },
     "metadata": {},
     "output_type": "display_data"
    },
    {
     "name": "stdout",
     "output_type": "stream",
     "text": [
      "('Okay', 'INTJ', 'okay')\n",
      "('your', 'PRON', '-PRON-')\n",
      "('taxi', 'NOUN', 'taxi')\n",
      "('car', 'NOUN', 'car')\n",
      "('type', 'NOUN', 'type')\n",
      "('is', 'AUX', 'be')\n",
      "('a', 'DET', 'a')\n",
      "('white', 'ADJ', 'white')\n",
      "('bmw', 'PROPN', 'bmw')\n",
      "('and', 'CCONJ', 'and')\n",
      "('the', 'DET', 'the')\n",
      "('contact', 'NOUN', 'contact')\n",
      "('number', 'NOUN', 'number')\n",
      "('is', 'AUX', 'be')\n",
      "('07967879848', 'NUM', '07967879848')\n",
      "('Is', 'AUX', 'be')\n",
      "('there', 'PRON', 'there')\n",
      "('anything', 'PRON', 'anything')\n",
      "('else', 'ADV', 'else')\n",
      "('you', 'PRON', '-PRON-')\n",
      "('need', 'VERB', 'need')\n",
      "******************************************************\n",
      "18-That is all.  Thank you\n"
     ]
    },
    {
     "name": "stderr",
     "output_type": "stream",
     "text": [
      "/usr/lib/python3.5/runpy.py:184: UserWarning: [W006] No entities to visualize found in Doc object. If this is surprising to you, make sure the Doc was processed using a model that supports named entity recognition, and check the `doc.ents` property manually if necessary.\n",
      "  \"__main__\", mod_spec)\n"
     ]
    },
    {
     "data": {
      "text/html": [
       "<div class=\"entities\" style=\"line-height: 2.5; direction: ltr\">That is all.  Thank you</div>"
      ],
      "text/plain": [
       "<IPython.core.display.HTML object>"
      ]
     },
     "metadata": {},
     "output_type": "display_data"
    },
    {
     "name": "stdout",
     "output_type": "stream",
     "text": [
      "('That', 'DET', 'that')\n",
      "('is', 'AUX', 'be')\n",
      "('all', 'DET', 'all')\n",
      "(' ', 'SPACE', ' ')\n",
      "('Thank', 'VERB', 'thank')\n",
      "('you', 'PRON', '-PRON-')\n",
      "******************************************************\n",
      "19-Great! Enjoy your stay!\n"
     ]
    },
    {
     "name": "stderr",
     "output_type": "stream",
     "text": [
      "/usr/lib/python3.5/runpy.py:184: UserWarning: [W006] No entities to visualize found in Doc object. If this is surprising to you, make sure the Doc was processed using a model that supports named entity recognition, and check the `doc.ents` property manually if necessary.\n",
      "  \"__main__\", mod_spec)\n"
     ]
    },
    {
     "data": {
      "text/html": [
       "<div class=\"entities\" style=\"line-height: 2.5; direction: ltr\">Great! Enjoy your stay!</div>"
      ],
      "text/plain": [
       "<IPython.core.display.HTML object>"
      ]
     },
     "metadata": {},
     "output_type": "display_data"
    },
    {
     "name": "stdout",
     "output_type": "stream",
     "text": [
      "('Great', 'ADJ', 'great')\n",
      "('Enjoy', 'VERB', 'enjoy')\n",
      "('your', 'PRON', '-PRON-')\n",
      "('stay', 'NOUN', 'stay')\n",
      "******************************************************\n"
     ]
    }
   ],
   "source": [
    "new_sentence=\"\"\n",
    "for i in range(len(dict_json_weighted[object_1]['log'])):\n",
    "    print(str(i)+\"-\"+dict_json_weighted[object_1]['log'][i]['text'])\n",
    "    sentence =nlp (dict_json_weighted[object_1]['log'][i]['text'])\n",
    "    ### create a file for each sentence in both directories \n",
    "    result1= open(\"Data/chatito/\"+object_1[:-5]+\"_\"+str(i)+\".txt\",\"w+\")\n",
    "    result2= open(\"Data/chatette/\"+object_1[:-5]+\"_\"+str(i)+\".txt\",\"w+\")\n",
    "    ### print the label\n",
    "    #print(\"Verbs:\", [token.lemma_ for token in sentence if token.pos_ == \"VERB\"])\n",
    "    r1 = open(\"Data/chatito/\"+object_1[:-5]+\"_\"+str(i)+\".txt\", \"w+\")  \n",
    "    r2 = open(\"Data/chatette/\"+object_1[:-5]+\"_\"+str(i)+\".txt\", \"w+\")\n",
    "\n",
    "    for X in (sentence.ents) :\n",
    "        print([(X.text, X.label_) ])\n",
    "        for z in range(len(sentence)):\n",
    "            if str(sentence[z])==str(X.text):\n",
    "                new_sentence+=\" [\"+X.label_+\"] \"\n",
    "            else:\n",
    "                new_sentence+=\" \"+str(sentence[z])\n",
    "        \n",
    "            #using chatette format\n",
    "        if X.label_ in r2.read():\n",
    "            r2.write(\"   |\"+X.text)\n",
    "        else:\n",
    "            r2.write(\"~[\"+X.label_+\"]\\n\")\n",
    "            r2.write(\"   |\"+X.text)\n",
    "\n",
    "             #using chatito format\n",
    "        if X.label_ in r1.read():\n",
    "            r1.write(\"   \"+X.text+\"\\n\")\n",
    "        else: \n",
    "            r1.write(\"~[\"+X.label_+\"]\\n\")\n",
    "            r1.write(\"   \"+X.text+\"\\n\")\n",
    "    \n",
    "    r1.write(str(new_sentence)+\"\\n\")\n",
    "    r2.write(\"\\n\"+str(new_sentence)+\"\\n\")\n",
    "    \n",
    "    \n",
    "    #labels = [x.label_ for x in sentence.ents]\n",
    "    #print(len(sentence.ents))\n",
    "    ### print the labels in each sentence\n",
    "    #print(Counter(labels))\n",
    "    ### highlight named entities and their labels in a text\n",
    "    displacy.render(sentence, jupyter=True, style='ent')\n",
    "    ### display the sentence and its dependencies \n",
    "    #displacy.render(sentence, style='dep', jupyter = True, options = {'distance': 120})\n",
    "    \n",
    "    ###apply part-of-speech tagging and lemmatize the sentence.\n",
    "    for x in [y for y in sentence if y.pos_ != 'PUNCT']:\n",
    "        print ((x.orth_,x.pos_, x.lemma_))\n",
    "    print (\"******************************************************\")\n",
    "    "
   ]
  },
  {
   "cell_type": "code",
   "execution_count": null,
   "metadata": {},
   "outputs": [],
   "source": []
  },
  {
   "cell_type": "code",
   "execution_count": null,
   "metadata": {},
   "outputs": [],
   "source": []
  }
 ],
 "metadata": {
  "kernelspec": {
   "display_name": "Python 3",
   "language": "python",
   "name": "python3"
  },
  "language_info": {
   "codemirror_mode": {
    "name": "ipython",
    "version": 3
   },
   "file_extension": ".py",
   "mimetype": "text/x-python",
   "name": "python",
   "nbconvert_exporter": "python",
   "pygments_lexer": "ipython3",
   "version": "3.5.2"
  }
 },
 "nbformat": 4,
 "nbformat_minor": 2
}
