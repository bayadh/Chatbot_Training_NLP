{
 "cells": [
  {
   "cell_type": "code",
   "execution_count": 114,
   "metadata": {},
   "outputs": [
    {
     "name": "stdout",
     "output_type": "stream",
     "text": [
      "Requirement already satisfied: bs4 in /mnt/workspace/.local/lib/python3.5/site-packages (0.0.1)\n",
      "Requirement already satisfied: beautifulsoup4 in /mnt/workspace/.local/lib/python3.5/site-packages (from bs4) (4.8.1)\n",
      "Requirement already satisfied: soupsieve>=1.2 in /mnt/workspace/.local/lib/python3.5/site-packages (from beautifulsoup4->bs4) (1.9.5)\n",
      "\u001b[33mYou are using pip version 18.0, however version 19.3.1 is available.\n",
      "You should consider upgrading via the 'pip install --upgrade pip' command.\u001b[0m\n"
     ]
    }
   ],
   "source": [
    "import spacy\n",
    "from spacy import displacy\n",
    "from collections import Counter\n",
    "import en_core_web_sm\n",
    "#!pip install https://github.com/explosion/spacy-models/releases/download/en_core_web_sm-2.2.0/en_core_web_sm-2.2.0.tar.gz --user\n",
    "nlp = en_core_web_sm.load()\n",
    "import pandas as pd\n",
    "import json\n",
    "!pip install bs4 --user\n",
    "from bs4 import BeautifulSoup\n",
    "import requests\n",
    "import re\n",
    "import os\n",
    "import mmap"
   ]
  },
  {
   "cell_type": "markdown",
   "metadata": {},
   "source": [
    "## Load data"
   ]
  },
  {
   "cell_type": "code",
   "execution_count": 91,
   "metadata": {},
   "outputs": [
    {
     "name": "stdout",
     "output_type": "stream",
     "text": [
      "0-I am looking for information about the City Centre North B and B hotel.  Can you help me with that?\n",
      "1-Yes! City Centre North B and B is an inexpensively-priced guesthouse in the north of town at 328A Histon Road. Would you like to book a room?\n",
      "2-Yes can I book it for 6 people starting on Saturday for 4 nights please?\n",
      "3-They weren't able to accommodate those parameters. Would you like to try a shorter stay?\n",
      "4-Sure.  Let's try 2 nights.  Thanks. I'll need a reference number, too, please.\n",
      "5-The booking for City Centre North B&B has been made, your reference number is 0FAFY5PP.\n",
      "6-Great! I also need a train from bishops stortford to cambridge, please.\n",
      "7-I can find one for you. Can you tell me what day you would like to travel, please? \n",
      "8-The train should arrive by 14:45 and should be on the same day as the hotel booking.\n",
      "9-Great, I recommend train TR5108.  It departs at 13:29 and will get you there by 14:07.  Would you like me to book it?\n",
      "10-Please book that train for me now.\n",
      "11-Certainly! How many tickets would you like?\n",
      "12-I need 6 tickets for the same day.\n",
      "13-Booking was successful, the total fee is 48.48 GBP payable at the station .\n",
      "Reference number is : GSTIN0L6.\n",
      "14-That's all I need today, thank you. \n",
      "15-You're welcome! Lovely day to you.\n"
     ]
    }
   ],
   "source": [
    "with open('train_data.json', 'r') as f:\n",
    "    dict_json_weighted = json.load(f)\n",
    "object_1 = list(dict_json_weighted.keys())[4]\n",
    "for i in range(len(dict_json_weighted[object_1]['log'])):\n",
    "    print(str(i)+\"-\"+dict_json_weighted[object_1]['log'][i]['text'])"
   ]
  },
  {
   "cell_type": "markdown",
   "metadata": {},
   "source": [
    "## Apply nlp for each sentence "
   ]
  },
  {
   "cell_type": "code",
   "execution_count": 139,
   "metadata": {},
   "outputs": [
    {
     "name": "stdout",
     "output_type": "stream",
     "text": [
      "0-I am looking for information about the City Centre North B and B hotel.  Can you help me with that?\n",
      "[('the City Centre North B', 'GPE')]\n",
      "GPE**else\n"
     ]
    },
    {
     "data": {
      "text/html": [
       "<div class=\"entities\" style=\"line-height: 2.5; direction: ltr\">I am looking for information about \n",
       "<mark class=\"entity\" style=\"background: #feca74; padding: 0.45em 0.6em; margin: 0 0.25em; line-height: 1; border-radius: 0.35em;\">\n",
       "    the City Centre North B\n",
       "    <span style=\"font-size: 0.8em; font-weight: bold; line-height: 1; border-radius: 0.35em; text-transform: uppercase; vertical-align: middle; margin-left: 0.5rem\">GPE</span>\n",
       "</mark>\n",
       " and B hotel.  Can you help me with that?</div>"
      ],
      "text/plain": [
       "<IPython.core.display.HTML object>"
      ]
     },
     "metadata": {},
     "output_type": "display_data"
    },
    {
     "name": "stdout",
     "output_type": "stream",
     "text": [
      "('I', 'PRON', '-PRON-')\n",
      "('am', 'AUX', 'be')\n",
      "('looking', 'VERB', 'look')\n",
      "('for', 'ADP', 'for')\n",
      "('information', 'NOUN', 'information')\n",
      "('about', 'ADP', 'about')\n",
      "('the', 'DET', 'the')\n",
      "('City', 'PROPN', 'City')\n",
      "('Centre', 'PROPN', 'Centre')\n",
      "('North', 'PROPN', 'North')\n",
      "('B', 'PROPN', 'B')\n",
      "('and', 'CCONJ', 'and')\n",
      "('B', 'PROPN', 'B')\n",
      "('hotel', 'NOUN', 'hotel')\n",
      "(' ', 'SPACE', ' ')\n",
      "('Can', 'AUX', 'can')\n",
      "('you', 'PRON', '-PRON-')\n",
      "('help', 'VERB', 'help')\n",
      "('me', 'PRON', '-PRON-')\n",
      "('with', 'ADP', 'with')\n",
      "('that', 'DET', 'that')\n",
      "******************************************************\n",
      "1-Yes! City Centre North B and B is an inexpensively-priced guesthouse in the north of town at 328A Histon Road. Would you like to book a room?\n",
      "[('Histon Road', 'FAC')]\n",
      "FAC**else\n"
     ]
    },
    {
     "data": {
      "text/html": [
       "<div class=\"entities\" style=\"line-height: 2.5; direction: ltr\">Yes! City Centre North B and B is an inexpensively-priced guesthouse in the north of town at 328A \n",
       "<mark class=\"entity\" style=\"background: #ddd; padding: 0.45em 0.6em; margin: 0 0.25em; line-height: 1; border-radius: 0.35em;\">\n",
       "    Histon Road\n",
       "    <span style=\"font-size: 0.8em; font-weight: bold; line-height: 1; border-radius: 0.35em; text-transform: uppercase; vertical-align: middle; margin-left: 0.5rem\">FAC</span>\n",
       "</mark>\n",
       ". Would you like to book a room?</div>"
      ],
      "text/plain": [
       "<IPython.core.display.HTML object>"
      ]
     },
     "metadata": {},
     "output_type": "display_data"
    },
    {
     "name": "stdout",
     "output_type": "stream",
     "text": [
      "('Yes', 'INTJ', 'yes')\n",
      "('City', 'PROPN', 'City')\n",
      "('Centre', 'PROPN', 'Centre')\n",
      "('North', 'PROPN', 'North')\n",
      "('B', 'PROPN', 'B')\n",
      "('and', 'CCONJ', 'and')\n",
      "('B', 'PROPN', 'B')\n",
      "('is', 'AUX', 'be')\n",
      "('an', 'DET', 'an')\n",
      "('inexpensively', 'ADV', 'inexpensively')\n",
      "('priced', 'VERB', 'price')\n",
      "('guesthouse', 'NOUN', 'guesthouse')\n",
      "('in', 'ADP', 'in')\n",
      "('the', 'DET', 'the')\n",
      "('north', 'NOUN', 'north')\n",
      "('of', 'ADP', 'of')\n",
      "('town', 'NOUN', 'town')\n",
      "('at', 'ADP', 'at')\n",
      "('328A', 'NUM', '328a')\n",
      "('Histon', 'PROPN', 'Histon')\n",
      "('Road', 'PROPN', 'Road')\n",
      "('Would', 'AUX', 'would')\n",
      "('you', 'PRON', '-PRON-')\n",
      "('like', 'VERB', 'like')\n",
      "('to', 'PART', 'to')\n",
      "('book', 'VERB', 'book')\n",
      "('a', 'DET', 'a')\n",
      "('room', 'NOUN', 'room')\n",
      "******************************************************\n",
      "2-Yes can I book it for 6 people starting on Saturday for 4 nights please?\n",
      "[('6', 'CARDINAL')]\n",
      "CARDINAL**else\n",
      "[('Saturday', 'DATE')]\n",
      "DATE**else\n",
      "[('4 nights', 'TIME')]\n",
      "TIME**else\n"
     ]
    },
    {
     "data": {
      "text/html": [
       "<div class=\"entities\" style=\"line-height: 2.5; direction: ltr\">Yes can I book it for \n",
       "<mark class=\"entity\" style=\"background: #e4e7d2; padding: 0.45em 0.6em; margin: 0 0.25em; line-height: 1; border-radius: 0.35em;\">\n",
       "    6\n",
       "    <span style=\"font-size: 0.8em; font-weight: bold; line-height: 1; border-radius: 0.35em; text-transform: uppercase; vertical-align: middle; margin-left: 0.5rem\">CARDINAL</span>\n",
       "</mark>\n",
       " people starting on \n",
       "<mark class=\"entity\" style=\"background: #bfe1d9; padding: 0.45em 0.6em; margin: 0 0.25em; line-height: 1; border-radius: 0.35em;\">\n",
       "    Saturday\n",
       "    <span style=\"font-size: 0.8em; font-weight: bold; line-height: 1; border-radius: 0.35em; text-transform: uppercase; vertical-align: middle; margin-left: 0.5rem\">DATE</span>\n",
       "</mark>\n",
       " for \n",
       "<mark class=\"entity\" style=\"background: #bfe1d9; padding: 0.45em 0.6em; margin: 0 0.25em; line-height: 1; border-radius: 0.35em;\">\n",
       "    4 nights\n",
       "    <span style=\"font-size: 0.8em; font-weight: bold; line-height: 1; border-radius: 0.35em; text-transform: uppercase; vertical-align: middle; margin-left: 0.5rem\">TIME</span>\n",
       "</mark>\n",
       " please?</div>"
      ],
      "text/plain": [
       "<IPython.core.display.HTML object>"
      ]
     },
     "metadata": {},
     "output_type": "display_data"
    },
    {
     "name": "stdout",
     "output_type": "stream",
     "text": [
      "('Yes', 'INTJ', 'yes')\n",
      "('can', 'AUX', 'can')\n",
      "('I', 'PRON', '-PRON-')\n",
      "('book', 'VERB', 'book')\n",
      "('it', 'PRON', '-PRON-')\n",
      "('for', 'ADP', 'for')\n",
      "('6', 'NUM', '6')\n",
      "('people', 'NOUN', 'people')\n",
      "('starting', 'VERB', 'start')\n",
      "('on', 'ADP', 'on')\n",
      "('Saturday', 'PROPN', 'Saturday')\n",
      "('for', 'ADP', 'for')\n",
      "('4', 'NUM', '4')\n",
      "('nights', 'NOUN', 'night')\n",
      "('please', 'INTJ', 'please')\n",
      "******************************************************\n",
      "3-They weren't able to accommodate those parameters. Would you like to try a shorter stay?\n"
     ]
    },
    {
     "name": "stderr",
     "output_type": "stream",
     "text": [
      "/usr/lib/python3.5/runpy.py:184: UserWarning: [W006] No entities to visualize found in Doc object. If this is surprising to you, make sure the Doc was processed using a model that supports named entity recognition, and check the `doc.ents` property manually if necessary.\n",
      "  \"__main__\", mod_spec)\n"
     ]
    },
    {
     "data": {
      "text/html": [
       "<div class=\"entities\" style=\"line-height: 2.5; direction: ltr\">They weren't able to accommodate those parameters. Would you like to try a shorter stay?</div>"
      ],
      "text/plain": [
       "<IPython.core.display.HTML object>"
      ]
     },
     "metadata": {},
     "output_type": "display_data"
    },
    {
     "name": "stdout",
     "output_type": "stream",
     "text": [
      "('They', 'PRON', '-PRON-')\n",
      "('were', 'AUX', 'be')\n",
      "(\"n't\", 'PART', 'not')\n",
      "('able', 'ADJ', 'able')\n",
      "('to', 'PART', 'to')\n",
      "('accommodate', 'VERB', 'accommodate')\n",
      "('those', 'DET', 'those')\n",
      "('parameters', 'NOUN', 'parameter')\n",
      "('Would', 'AUX', 'would')\n",
      "('you', 'PRON', '-PRON-')\n",
      "('like', 'VERB', 'like')\n",
      "('to', 'PART', 'to')\n",
      "('try', 'VERB', 'try')\n",
      "('a', 'DET', 'a')\n",
      "('shorter', 'ADJ', 'short')\n",
      "('stay', 'NOUN', 'stay')\n",
      "******************************************************\n",
      "4-Sure.  Let's try 2 nights.  Thanks. I'll need a reference number, too, please.\n",
      "[('2 nights', 'DATE')]\n",
      "DATE**else\n"
     ]
    },
    {
     "data": {
      "text/html": [
       "<div class=\"entities\" style=\"line-height: 2.5; direction: ltr\">Sure.  Let's try \n",
       "<mark class=\"entity\" style=\"background: #bfe1d9; padding: 0.45em 0.6em; margin: 0 0.25em; line-height: 1; border-radius: 0.35em;\">\n",
       "    2 nights\n",
       "    <span style=\"font-size: 0.8em; font-weight: bold; line-height: 1; border-radius: 0.35em; text-transform: uppercase; vertical-align: middle; margin-left: 0.5rem\">DATE</span>\n",
       "</mark>\n",
       ".  Thanks. I'll need a reference number, too, please.</div>"
      ],
      "text/plain": [
       "<IPython.core.display.HTML object>"
      ]
     },
     "metadata": {},
     "output_type": "display_data"
    },
    {
     "name": "stdout",
     "output_type": "stream",
     "text": [
      "('Sure', 'INTJ', 'sure')\n",
      "(' ', 'SPACE', ' ')\n",
      "('Let', 'VERB', 'let')\n",
      "(\"'s\", 'PRON', '-PRON-')\n",
      "('try', 'VERB', 'try')\n",
      "('2', 'NUM', '2')\n",
      "('nights', 'NOUN', 'night')\n",
      "(' ', 'SPACE', ' ')\n",
      "('Thanks', 'INTJ', 'thanks')\n",
      "('I', 'PRON', '-PRON-')\n",
      "(\"'ll\", 'VERB', 'will')\n",
      "('need', 'VERB', 'need')\n",
      "('a', 'DET', 'a')\n",
      "('reference', 'NOUN', 'reference')\n",
      "('number', 'NOUN', 'number')\n",
      "('too', 'ADV', 'too')\n",
      "('please', 'INTJ', 'please')\n",
      "******************************************************\n",
      "5-The booking for City Centre North B&B has been made, your reference number is 0FAFY5PP.\n",
      "[('City Centre North B&B', 'ORG')]\n",
      "ORG**else\n"
     ]
    },
    {
     "data": {
      "text/html": [
       "<div class=\"entities\" style=\"line-height: 2.5; direction: ltr\">The booking for \n",
       "<mark class=\"entity\" style=\"background: #7aecec; padding: 0.45em 0.6em; margin: 0 0.25em; line-height: 1; border-radius: 0.35em;\">\n",
       "    City Centre North B&amp;B\n",
       "    <span style=\"font-size: 0.8em; font-weight: bold; line-height: 1; border-radius: 0.35em; text-transform: uppercase; vertical-align: middle; margin-left: 0.5rem\">ORG</span>\n",
       "</mark>\n",
       " has been made, your reference number is 0FAFY5PP.</div>"
      ],
      "text/plain": [
       "<IPython.core.display.HTML object>"
      ]
     },
     "metadata": {},
     "output_type": "display_data"
    },
    {
     "name": "stdout",
     "output_type": "stream",
     "text": [
      "('The', 'DET', 'the')\n",
      "('booking', 'NOUN', 'booking')\n",
      "('for', 'ADP', 'for')\n",
      "('City', 'PROPN', 'City')\n",
      "('Centre', 'PROPN', 'Centre')\n",
      "('North', 'PROPN', 'North')\n",
      "('B&B', 'PROPN', 'B&B')\n",
      "('has', 'AUX', 'have')\n",
      "('been', 'AUX', 'be')\n",
      "('made', 'VERB', 'make')\n",
      "('your', 'PRON', '-PRON-')\n",
      "('reference', 'NOUN', 'reference')\n",
      "('number', 'NOUN', 'number')\n",
      "('is', 'AUX', 'be')\n",
      "('0FAFY5PP', 'NUM', '0fafy5pp')\n",
      "******************************************************\n",
      "6-Great! I also need a train from bishops stortford to cambridge, please.\n"
     ]
    },
    {
     "name": "stderr",
     "output_type": "stream",
     "text": [
      "/usr/lib/python3.5/runpy.py:184: UserWarning: [W006] No entities to visualize found in Doc object. If this is surprising to you, make sure the Doc was processed using a model that supports named entity recognition, and check the `doc.ents` property manually if necessary.\n",
      "  \"__main__\", mod_spec)\n"
     ]
    },
    {
     "data": {
      "text/html": [
       "<div class=\"entities\" style=\"line-height: 2.5; direction: ltr\">Great! I also need a train from bishops stortford to cambridge, please.</div>"
      ],
      "text/plain": [
       "<IPython.core.display.HTML object>"
      ]
     },
     "metadata": {},
     "output_type": "display_data"
    },
    {
     "name": "stdout",
     "output_type": "stream",
     "text": [
      "('Great', 'ADJ', 'great')\n",
      "('I', 'PRON', '-PRON-')\n",
      "('also', 'ADV', 'also')\n",
      "('need', 'VERB', 'need')\n",
      "('a', 'DET', 'a')\n",
      "('train', 'NOUN', 'train')\n",
      "('from', 'ADP', 'from')\n",
      "('bishops', 'NOUN', 'bishop')\n",
      "('stortford', 'ADJ', 'stortford')\n",
      "('to', 'ADP', 'to')\n",
      "('cambridge', 'PROPN', 'cambridge')\n",
      "('please', 'INTJ', 'please')\n",
      "******************************************************\n",
      "7-I can find one for you. Can you tell me what day you would like to travel, please? \n"
     ]
    },
    {
     "name": "stderr",
     "output_type": "stream",
     "text": [
      "/usr/lib/python3.5/runpy.py:184: UserWarning: [W006] No entities to visualize found in Doc object. If this is surprising to you, make sure the Doc was processed using a model that supports named entity recognition, and check the `doc.ents` property manually if necessary.\n",
      "  \"__main__\", mod_spec)\n"
     ]
    },
    {
     "data": {
      "text/html": [
       "<div class=\"entities\" style=\"line-height: 2.5; direction: ltr\">I can find one for you. Can you tell me what day you would like to travel, please? </div>"
      ],
      "text/plain": [
       "<IPython.core.display.HTML object>"
      ]
     },
     "metadata": {},
     "output_type": "display_data"
    },
    {
     "name": "stdout",
     "output_type": "stream",
     "text": [
      "('I', 'PRON', '-PRON-')\n",
      "('can', 'AUX', 'can')\n",
      "('find', 'VERB', 'find')\n",
      "('one', 'NUM', 'one')\n",
      "('for', 'ADP', 'for')\n",
      "('you', 'PRON', '-PRON-')\n",
      "('Can', 'AUX', 'can')\n",
      "('you', 'PRON', '-PRON-')\n",
      "('tell', 'VERB', 'tell')\n",
      "('me', 'PRON', '-PRON-')\n",
      "('what', 'PRON', 'what')\n",
      "('day', 'NOUN', 'day')\n",
      "('you', 'PRON', '-PRON-')\n",
      "('would', 'AUX', 'would')\n",
      "('like', 'VERB', 'like')\n",
      "('to', 'PART', 'to')\n",
      "('travel', 'VERB', 'travel')\n",
      "('please', 'INTJ', 'please')\n",
      "******************************************************\n",
      "8-The train should arrive by 14:45 and should be on the same day as the hotel booking.\n",
      "[('14:45', 'DATE')]\n",
      "DATE**else\n",
      "[('the same day', 'DATE')]\n",
      "DATE**else\n"
     ]
    },
    {
     "data": {
      "text/html": [
       "<div class=\"entities\" style=\"line-height: 2.5; direction: ltr\">The train should arrive by \n",
       "<mark class=\"entity\" style=\"background: #bfe1d9; padding: 0.45em 0.6em; margin: 0 0.25em; line-height: 1; border-radius: 0.35em;\">\n",
       "    14:45\n",
       "    <span style=\"font-size: 0.8em; font-weight: bold; line-height: 1; border-radius: 0.35em; text-transform: uppercase; vertical-align: middle; margin-left: 0.5rem\">DATE</span>\n",
       "</mark>\n",
       " and should be on \n",
       "<mark class=\"entity\" style=\"background: #bfe1d9; padding: 0.45em 0.6em; margin: 0 0.25em; line-height: 1; border-radius: 0.35em;\">\n",
       "    the same day\n",
       "    <span style=\"font-size: 0.8em; font-weight: bold; line-height: 1; border-radius: 0.35em; text-transform: uppercase; vertical-align: middle; margin-left: 0.5rem\">DATE</span>\n",
       "</mark>\n",
       " as the hotel booking.</div>"
      ],
      "text/plain": [
       "<IPython.core.display.HTML object>"
      ]
     },
     "metadata": {},
     "output_type": "display_data"
    },
    {
     "name": "stdout",
     "output_type": "stream",
     "text": [
      "('The', 'DET', 'the')\n",
      "('train', 'NOUN', 'train')\n",
      "('should', 'AUX', 'should')\n",
      "('arrive', 'VERB', 'arrive')\n",
      "('by', 'ADP', 'by')\n",
      "('14:45', 'NUM', '14:45')\n",
      "('and', 'CCONJ', 'and')\n",
      "('should', 'AUX', 'should')\n",
      "('be', 'AUX', 'be')\n",
      "('on', 'ADP', 'on')\n",
      "('the', 'DET', 'the')\n",
      "('same', 'ADJ', 'same')\n",
      "('day', 'NOUN', 'day')\n",
      "('as', 'SCONJ', 'as')\n",
      "('the', 'DET', 'the')\n",
      "('hotel', 'NOUN', 'hotel')\n",
      "('booking', 'NOUN', 'booking')\n",
      "******************************************************\n",
      "9-Great, I recommend train TR5108.  It departs at 13:29 and will get you there by 14:07.  Would you like me to book it?\n",
      "[('13:29', 'CARDINAL')]\n",
      "CARDINAL**else\n",
      "[('14:07', 'CARDINAL')]\n",
      "CARDINAL**else\n"
     ]
    },
    {
     "data": {
      "text/html": [
       "<div class=\"entities\" style=\"line-height: 2.5; direction: ltr\">Great, I recommend train TR5108.  It departs at \n",
       "<mark class=\"entity\" style=\"background: #e4e7d2; padding: 0.45em 0.6em; margin: 0 0.25em; line-height: 1; border-radius: 0.35em;\">\n",
       "    13:29\n",
       "    <span style=\"font-size: 0.8em; font-weight: bold; line-height: 1; border-radius: 0.35em; text-transform: uppercase; vertical-align: middle; margin-left: 0.5rem\">CARDINAL</span>\n",
       "</mark>\n",
       " and will get you there by \n",
       "<mark class=\"entity\" style=\"background: #e4e7d2; padding: 0.45em 0.6em; margin: 0 0.25em; line-height: 1; border-radius: 0.35em;\">\n",
       "    14:07\n",
       "    <span style=\"font-size: 0.8em; font-weight: bold; line-height: 1; border-radius: 0.35em; text-transform: uppercase; vertical-align: middle; margin-left: 0.5rem\">CARDINAL</span>\n",
       "</mark>\n",
       ".  Would you like me to book it?</div>"
      ],
      "text/plain": [
       "<IPython.core.display.HTML object>"
      ]
     },
     "metadata": {},
     "output_type": "display_data"
    },
    {
     "name": "stdout",
     "output_type": "stream",
     "text": [
      "('Great', 'ADJ', 'great')\n",
      "('I', 'PRON', '-PRON-')\n",
      "('recommend', 'VERB', 'recommend')\n",
      "('train', 'NOUN', 'train')\n",
      "('TR5108', 'NOUN', 'tr5108')\n",
      "(' ', 'SPACE', ' ')\n",
      "('It', 'PRON', '-PRON-')\n",
      "('departs', 'VERB', 'depart')\n",
      "('at', 'ADP', 'at')\n",
      "('13:29', 'NUM', '13:29')\n",
      "('and', 'CCONJ', 'and')\n",
      "('will', 'AUX', 'will')\n",
      "('get', 'AUX', 'get')\n",
      "('you', 'PRON', '-PRON-')\n",
      "('there', 'ADV', 'there')\n",
      "('by', 'ADP', 'by')\n",
      "('14:07', 'NUM', '14:07')\n",
      "(' ', 'SPACE', ' ')\n",
      "('Would', 'AUX', 'would')\n",
      "('you', 'PRON', '-PRON-')\n",
      "('like', 'VERB', 'like')\n",
      "('me', 'PRON', '-PRON-')\n",
      "('to', 'PART', 'to')\n",
      "('book', 'VERB', 'book')\n",
      "('it', 'PRON', '-PRON-')\n",
      "******************************************************\n",
      "10-Please book that train for me now.\n"
     ]
    },
    {
     "name": "stderr",
     "output_type": "stream",
     "text": [
      "/usr/lib/python3.5/runpy.py:184: UserWarning: [W006] No entities to visualize found in Doc object. If this is surprising to you, make sure the Doc was processed using a model that supports named entity recognition, and check the `doc.ents` property manually if necessary.\n",
      "  \"__main__\", mod_spec)\n"
     ]
    },
    {
     "data": {
      "text/html": [
       "<div class=\"entities\" style=\"line-height: 2.5; direction: ltr\">Please book that train for me now.</div>"
      ],
      "text/plain": [
       "<IPython.core.display.HTML object>"
      ]
     },
     "metadata": {},
     "output_type": "display_data"
    },
    {
     "name": "stdout",
     "output_type": "stream",
     "text": [
      "('Please', 'INTJ', 'please')\n",
      "('book', 'NOUN', 'book')\n",
      "('that', 'DET', 'that')\n",
      "('train', 'NOUN', 'train')\n",
      "('for', 'ADP', 'for')\n",
      "('me', 'PRON', '-PRON-')\n",
      "('now', 'ADV', 'now')\n",
      "******************************************************\n",
      "11-Certainly! How many tickets would you like?\n"
     ]
    },
    {
     "name": "stderr",
     "output_type": "stream",
     "text": [
      "/usr/lib/python3.5/runpy.py:184: UserWarning: [W006] No entities to visualize found in Doc object. If this is surprising to you, make sure the Doc was processed using a model that supports named entity recognition, and check the `doc.ents` property manually if necessary.\n",
      "  \"__main__\", mod_spec)\n"
     ]
    },
    {
     "data": {
      "text/html": [
       "<div class=\"entities\" style=\"line-height: 2.5; direction: ltr\">Certainly! How many tickets would you like?</div>"
      ],
      "text/plain": [
       "<IPython.core.display.HTML object>"
      ]
     },
     "metadata": {},
     "output_type": "display_data"
    },
    {
     "name": "stdout",
     "output_type": "stream",
     "text": [
      "('Certainly', 'ADV', 'certainly')\n",
      "('How', 'ADV', 'how')\n",
      "('many', 'ADJ', 'many')\n",
      "('tickets', 'NOUN', 'ticket')\n",
      "('would', 'AUX', 'would')\n",
      "('you', 'PRON', '-PRON-')\n",
      "('like', 'VERB', 'like')\n",
      "******************************************************\n",
      "12-I need 6 tickets for the same day.\n",
      "[('6', 'CARDINAL')]\n",
      "CARDINAL**else\n",
      "[('the same day', 'DATE')]\n",
      "DATE**else\n"
     ]
    },
    {
     "data": {
      "text/html": [
       "<div class=\"entities\" style=\"line-height: 2.5; direction: ltr\">I need \n",
       "<mark class=\"entity\" style=\"background: #e4e7d2; padding: 0.45em 0.6em; margin: 0 0.25em; line-height: 1; border-radius: 0.35em;\">\n",
       "    6\n",
       "    <span style=\"font-size: 0.8em; font-weight: bold; line-height: 1; border-radius: 0.35em; text-transform: uppercase; vertical-align: middle; margin-left: 0.5rem\">CARDINAL</span>\n",
       "</mark>\n",
       " tickets for \n",
       "<mark class=\"entity\" style=\"background: #bfe1d9; padding: 0.45em 0.6em; margin: 0 0.25em; line-height: 1; border-radius: 0.35em;\">\n",
       "    the same day\n",
       "    <span style=\"font-size: 0.8em; font-weight: bold; line-height: 1; border-radius: 0.35em; text-transform: uppercase; vertical-align: middle; margin-left: 0.5rem\">DATE</span>\n",
       "</mark>\n",
       ".</div>"
      ],
      "text/plain": [
       "<IPython.core.display.HTML object>"
      ]
     },
     "metadata": {},
     "output_type": "display_data"
    },
    {
     "name": "stdout",
     "output_type": "stream",
     "text": [
      "('I', 'PRON', '-PRON-')\n",
      "('need', 'VERB', 'need')\n",
      "('6', 'NUM', '6')\n",
      "('tickets', 'NOUN', 'ticket')\n",
      "('for', 'ADP', 'for')\n",
      "('the', 'DET', 'the')\n",
      "('same', 'ADJ', 'same')\n",
      "('day', 'NOUN', 'day')\n",
      "******************************************************\n",
      "13-Booking was successful, the total fee is 48.48 GBP payable at the station .\n",
      "Reference number is : GSTIN0L6.\n",
      "[('48.48', 'CARDINAL')]\n",
      "CARDINAL**else\n"
     ]
    },
    {
     "data": {
      "text/html": [
       "<div class=\"entities\" style=\"line-height: 2.5; direction: ltr\">Booking was successful, the total fee is \n",
       "<mark class=\"entity\" style=\"background: #e4e7d2; padding: 0.45em 0.6em; margin: 0 0.25em; line-height: 1; border-radius: 0.35em;\">\n",
       "    48.48\n",
       "    <span style=\"font-size: 0.8em; font-weight: bold; line-height: 1; border-radius: 0.35em; text-transform: uppercase; vertical-align: middle; margin-left: 0.5rem\">CARDINAL</span>\n",
       "</mark>\n",
       " GBP payable at the station .\n",
       "Reference number is : GSTIN0L6.</div>"
      ],
      "text/plain": [
       "<IPython.core.display.HTML object>"
      ]
     },
     "metadata": {},
     "output_type": "display_data"
    },
    {
     "name": "stdout",
     "output_type": "stream",
     "text": [
      "('Booking', 'NOUN', 'booking')\n",
      "('was', 'AUX', 'be')\n",
      "('successful', 'ADJ', 'successful')\n",
      "('the', 'DET', 'the')\n",
      "('total', 'ADJ', 'total')\n",
      "('fee', 'NOUN', 'fee')\n",
      "('is', 'AUX', 'be')\n",
      "('48.48', 'NUM', '48.48')\n",
      "('GBP', 'PROPN', 'GBP')\n",
      "('payable', 'ADJ', 'payable')\n",
      "('at', 'ADP', 'at')\n",
      "('the', 'DET', 'the')\n",
      "('station', 'NOUN', 'station')\n",
      "('\\n', 'SPACE', '\\n')\n",
      "('Reference', 'PROPN', 'Reference')\n",
      "('number', 'NOUN', 'number')\n",
      "('is', 'AUX', 'be')\n",
      "('GSTIN0L6', 'PROPN', 'GSTIN0L6')\n",
      "******************************************************\n",
      "14-That's all I need today, thank you. \n",
      "[('today', 'DATE')]\n",
      "DATE**else\n"
     ]
    },
    {
     "data": {
      "text/html": [
       "<div class=\"entities\" style=\"line-height: 2.5; direction: ltr\">That's all I need \n",
       "<mark class=\"entity\" style=\"background: #bfe1d9; padding: 0.45em 0.6em; margin: 0 0.25em; line-height: 1; border-radius: 0.35em;\">\n",
       "    today\n",
       "    <span style=\"font-size: 0.8em; font-weight: bold; line-height: 1; border-radius: 0.35em; text-transform: uppercase; vertical-align: middle; margin-left: 0.5rem\">DATE</span>\n",
       "</mark>\n",
       ", thank you. </div>"
      ],
      "text/plain": [
       "<IPython.core.display.HTML object>"
      ]
     },
     "metadata": {},
     "output_type": "display_data"
    },
    {
     "name": "stdout",
     "output_type": "stream",
     "text": [
      "('That', 'DET', 'that')\n",
      "(\"'s\", 'AUX', 'be')\n",
      "('all', 'DET', 'all')\n",
      "('I', 'PRON', '-PRON-')\n",
      "('need', 'VERB', 'need')\n",
      "('today', 'NOUN', 'today')\n",
      "('thank', 'VERB', 'thank')\n",
      "('you', 'PRON', '-PRON-')\n",
      "******************************************************\n",
      "15-You're welcome! Lovely day to you.\n",
      "[('Lovely day', 'DATE')]\n",
      "DATE**else\n"
     ]
    },
    {
     "data": {
      "text/html": [
       "<div class=\"entities\" style=\"line-height: 2.5; direction: ltr\">You're welcome! \n",
       "<mark class=\"entity\" style=\"background: #bfe1d9; padding: 0.45em 0.6em; margin: 0 0.25em; line-height: 1; border-radius: 0.35em;\">\n",
       "    Lovely day\n",
       "    <span style=\"font-size: 0.8em; font-weight: bold; line-height: 1; border-radius: 0.35em; text-transform: uppercase; vertical-align: middle; margin-left: 0.5rem\">DATE</span>\n",
       "</mark>\n",
       " to you.</div>"
      ],
      "text/plain": [
       "<IPython.core.display.HTML object>"
      ]
     },
     "metadata": {},
     "output_type": "display_data"
    },
    {
     "name": "stdout",
     "output_type": "stream",
     "text": [
      "('You', 'PRON', '-PRON-')\n",
      "(\"'re\", 'AUX', 'be')\n",
      "('welcome', 'ADJ', 'welcome')\n",
      "('Lovely', 'ADJ', 'lovely')\n",
      "('day', 'NOUN', 'day')\n",
      "('to', 'ADP', 'to')\n",
      "('you', 'PRON', '-PRON-')\n",
      "******************************************************\n"
     ]
    }
   ],
   "source": [
    "for i in range(len(dict_json_weighted[object_1]['log'])):\n",
    "    print(str(i)+\"-\"+dict_json_weighted[object_1]['log'][i]['text'])\n",
    "    sentence =nlp (dict_json_weighted[object_1]['log'][i]['text'])\n",
    "    ### create a file for each sentence\n",
    "    result= open(\"Data/\"+object_1+str(i)+\".txt\",\"w+\")\n",
    "    ### print the label\n",
    "    #print(\"Verbs:\", [token.lemma_ for token in sentence if token.pos_ == \"VERB\"])\n",
    "    for X in (sentence.ents) :\n",
    "        print([(X.text, X.label_) ])\n",
    "        r = open(\"Data/\"+object_1+str(i)+\".txt\", \"r\")     \n",
    "        if str(X.label_) not in r.read():\n",
    "            print(X.label_+\"**else\")\n",
    "            result.write(\"~[\"+X.label_+\"]\\n\")\n",
    "            result.write(\"   \"+X.text+\"\\n\")\n",
    "        elif \"~[\"+X.label_+\"]\" in r.read():\n",
    "            print(X.label_+\"**if\")\n",
    "            result.write(\"   \"+X.text+\"\\n\")\n",
    "                \n",
    "\n",
    "        \n",
    "    #labels = [x.label_ for x in sentence.ents]\n",
    "    #print(len(sentence.ents))\n",
    "    ### print the labels in each sentence\n",
    "    #print(Counter(labels))\n",
    "    ### highlight named entities and their labels in a text\n",
    "    displacy.render(sentence, jupyter=True, style='ent')\n",
    "    ### display the sentence and its dependencies \n",
    "    #displacy.render(sentence, style='dep', jupyter = True, options = {'distance': 120})\n",
    "    \n",
    "    ###apply part-of-speech tagging and lemmatize the sentence.\n",
    "    for x in [y for y in sentence if y.pos_ != 'PUNCT']:\n",
    "        print ((x.orth_,x.pos_, x.lemma_))\n",
    "    print (\"******************************************************\")\n",
    "    "
   ]
  }
 ],
 "metadata": {
  "kernelspec": {
   "display_name": "Python 3",
   "language": "python",
   "name": "python3"
  },
  "language_info": {
   "codemirror_mode": {
    "name": "ipython",
    "version": 3
   },
   "file_extension": ".py",
   "mimetype": "text/x-python",
   "name": "python",
   "nbconvert_exporter": "python",
   "pygments_lexer": "ipython3",
   "version": "3.5.2"
  }
 },
 "nbformat": 4,
 "nbformat_minor": 2
}
