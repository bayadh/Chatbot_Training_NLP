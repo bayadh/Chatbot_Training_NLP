{
 "cells": [
  {
   "cell_type": "code",
   "execution_count": 2,
   "metadata": {},
   "outputs": [
    {
     "name": "stdout",
     "output_type": "stream",
     "text": [
      "Requirement already satisfied: bs4 in /mnt/workspace/.local/lib/python3.5/site-packages (0.0.1)\n",
      "Requirement already satisfied: beautifulsoup4 in /mnt/workspace/.local/lib/python3.5/site-packages (from bs4) (4.8.1)\n",
      "Requirement already satisfied: soupsieve>=1.2 in /mnt/workspace/.local/lib/python3.5/site-packages (from beautifulsoup4->bs4) (1.9.5)\n",
      "\u001b[33mYou are using pip version 18.0, however version 19.3.1 is available.\n",
      "You should consider upgrading via the 'pip install --upgrade pip' command.\u001b[0m\n"
     ]
    }
   ],
   "source": [
    "import spacy\n",
    "from spacy import displacy\n",
    "from collections import Counter\n",
    "import en_core_web_sm\n",
    "#!pip install https://github.com/explosion/spacy-models/releases/download/en_core_web_sm-2.2.0/en_core_web_sm-2.2.0.tar.gz --user\n",
    "nlp = en_core_web_sm.load()\n",
    "import pandas as pd\n",
    "import json\n",
    "!pip install bs4 --user\n",
    "from bs4 import BeautifulSoup\n",
    "import requests\n",
    "import re\n",
    "import os\n",
    "import mmap"
   ]
  },
  {
   "cell_type": "markdown",
   "metadata": {},
   "source": [
    "## Load data"
   ]
  },
  {
   "cell_type": "code",
   "execution_count": 72,
   "metadata": {},
   "outputs": [
    {
     "name": "stdout",
     "output_type": "stream",
     "text": [
      "0-Can you help me book a 1 star hotel that has free parking please?\n",
      "1-I am sorry there are no 1 star hotels in any area,can I get a price range and area please?\n",
      "2-Let me think about that. What are some good local restaurants?\n",
      "3-There are over 100 restaurants in the city. Do you have a certain type of food in mind?\n",
      "4-No, I don't. Surprise me!\n",
      "5-Sure! Bedouin is african food located in the centre. Would that do?\n",
      "6-Let me think about that. Can you help me book a 4 star hotel?\n",
      "7-Yes I found 4 star hotel,do you want me to make reservation?\n",
      "8-Do they have internet access and can you tell me their price range and postcode?\n",
      "9-Yes, the University Arms Hotel has internet access. It is expensive, and its postcode is cb21ad. Would you like to book it?\n",
      "10-No, that's ok. I am also looking for a restaurant that serves indian food in the cheap price range.\n",
      "11-May I recommend the gandhi in the centre? It fits your criteria. \n",
      "12-That sounds good. Can you book me a table for 5 at 12 on Thursday?\n",
      "13-I'm sorry, they don't have tables available. Would you like to try another day or time?\n",
      "14-Is there another restaurant in the area?\n",
      "15-Kohinoor is in the centre and serves Indian food. Would you like me to make a reservation?\n",
      "16-Yes. I'd like to reserve a table for 5 on Thursday at 12:00.\n",
      "17-I'm sorry they are booked would you like to try another time?\n",
      "18-Are you sure there isn't an indian restaurant available on Thursday at 12:00 in the centre? Would you double check that for me again?\n",
      "19-I was able to book kohinoor, reference number is T8TBNX3R.\n",
      "20-I would like to get a taxi between the hotel and the restaurant.\n",
      "21-What time would you like me to schedule the taxi for?\n",
      "22-Arrival by the booked time at the restaurant.\n",
      "23-Ok your all set! A yellow BMW will be picking you up a few minutes before your reservation at the restaurant. Contact number is 07785034458. Anything else?\n",
      "24-No that will be all thank you\n",
      "25-You're welcome. Have a great day.\n"
     ]
    }
   ],
   "source": [
    "with open('data.json', 'r') as f:\n",
    "    dict_json_weighted = json.load(f)\n",
    "object_1 = list(dict_json_weighted.keys())[4]\n",
    "for i in range(len(dict_json_weighted[object_1]['log'])):\n",
    "    print(str(i)+\"-\"+dict_json_weighted[object_1]['log'][i]['text'])"
   ]
  },
  {
   "cell_type": "markdown",
   "metadata": {},
   "source": [
    "## Load ontology"
   ]
  },
  {
   "cell_type": "code",
   "execution_count": 111,
   "metadata": {},
   "outputs": [],
   "source": [
    "with open('ontology.json', 'r') as o:\n",
    "    ontology = json.load(o)\n",
    "action=['inform', 'request', 'select', 'recommend', 'not found', 'request booking', 'offer booking', \n",
    "        'inform booked', 'decline booking', 'welcome','greet', 'bye', 'reqmore' ]\n",
    "topic= ['hotel', 'restaurant', 'taxi', 'train', 'attraction', 'police', 'hospital']"
   ]
  },
  {
   "cell_type": "code",
   "execution_count": 113,
   "metadata": {},
   "outputs": [
    {
     "name": "stdout",
     "output_type": "stream",
     "text": [
      "Can you help me book a 1 star hotel that has free parking please?\n",
      "I am sorry there are no 1 star hotels in any area,can I get a price range and area please?\n",
      "Let me think about that. What are some good local restaurants?\n",
      "There are over 100 restaurants in the city. Do you have a certain type of food in mind?\n",
      "No, I don't. Surprise me!\n",
      "Sure! Bedouin is african food located in the centre. Would that do?\n",
      "Let me think about that. Can you help me book a 4 star hotel?\n",
      "Yes I found 4 star hotel,do you want me to make reservation?\n",
      "Do they have internet access and can you tell me their price range and postcode?\n",
      "Yes, the University Arms Hotel has internet access. It is expensive, and its postcode is cb21ad. Would you like to book it?\n",
      "No, that's ok. I am also looking for a restaurant that serves indian food in the cheap price range.\n",
      "May I recommend the gandhi in the centre? It fits your criteria. \n",
      "That sounds good. Can you book me a table for 5 at 12 on Thursday?\n",
      "I'm sorry, they don't have tables available. Would you like to try another day or time?\n",
      "Is there another restaurant in the area?\n",
      "Kohinoor is in the centre and serves Indian food. Would you like me to make a reservation?\n",
      "Yes. I'd like to reserve a table for 5 on Thursday at 12:00.\n",
      "I'm sorry they are booked would you like to try another time?\n",
      "Are you sure there isn't an indian restaurant available on Thursday at 12:00 in the centre? Would you double check that for me again?\n",
      "I was able to book kohinoor, reference number is T8TBNX3R.\n",
      "I would like to get a taxi between the hotel and the restaurant.\n",
      "What time would you like me to schedule the taxi for?\n",
      "Arrival by the booked time at the restaurant.\n",
      "Ok your all set! A yellow BMW will be picking you up a few minutes before your reservation at the restaurant. Contact number is 07785034458. Anything else?\n",
      "No that will be all thank you\n",
      "You're welcome. Have a great day.\n",
      "topics: ['hotel', 'restaurant', 'taxi']\n",
      "actions: ['recommend', 'welcome']\n"
     ]
    }
   ],
   "source": [
    "top=[]\n",
    "act=[]\n",
    "ont=list(ontology.keys())\n",
    "for i in range(len(dict_json_weighted[object_1]['log'])):\n",
    "    print(dict_json_weighted[object_1]['log'][i]['text'])\n",
    "    sentence =nlp (dict_json_weighted[object_1]['log'][i]['text'])\n",
    "    for x in [y for y in sentence if y.pos_ != 'PUNCT']:\n",
    "        if str(x).lower() in topic:\n",
    "            if str(x).lower() not in top:\n",
    "                top.append(str(x).lower()) \n",
    "        if x.lemma_ in action:\n",
    "            if x.lemma_ not in act:\n",
    "                act.append(x.lemma_)\n",
    "        #for z in ont:\n",
    "            #if str(x) in str(ontology[z]):\n",
    "                #print(z+\" :\"+str(x))           \n",
    "print(\"topics: \"+str(top))\n",
    "print(\"actions: \"+str(act))\n"
   ]
  },
  {
   "cell_type": "markdown",
   "metadata": {},
   "source": [
    "## Apply nlp for each sentence "
   ]
  },
  {
   "cell_type": "code",
   "execution_count": 3,
   "metadata": {},
   "outputs": [
    {
     "name": "stdout",
     "output_type": "stream",
     "text": [
      "0-I need a train going to cambridge. \n",
      "[('cambridge', 'GPE')]\n",
      "GPE**else\n"
     ]
    },
    {
     "data": {
      "text/html": [
       "<div class=\"entities\" style=\"line-height: 2.5; direction: ltr\">I need a train going to \n",
       "<mark class=\"entity\" style=\"background: #feca74; padding: 0.45em 0.6em; margin: 0 0.25em; line-height: 1; border-radius: 0.35em;\">\n",
       "    cambridge\n",
       "    <span style=\"font-size: 0.8em; font-weight: bold; line-height: 1; border-radius: 0.35em; text-transform: uppercase; vertical-align: middle; margin-left: 0.5rem\">GPE</span>\n",
       "</mark>\n",
       ". </div>"
      ],
      "text/plain": [
       "<IPython.core.display.HTML object>"
      ]
     },
     "metadata": {},
     "output_type": "display_data"
    },
    {
     "name": "stdout",
     "output_type": "stream",
     "text": [
      "('I', 'PRON', '-PRON-')\n",
      "('need', 'VERB', 'need')\n",
      "('a', 'DET', 'a')\n",
      "('train', 'NOUN', 'train')\n",
      "('going', 'VERB', 'go')\n",
      "('to', 'ADP', 'to')\n",
      "('cambridge', 'PROPN', 'cambridge')\n",
      "******************************************************\n",
      "1-Absolutely! What day and time would you like to leave?\n",
      "[('What day', 'DATE')]\n",
      "DATE**else\n"
     ]
    },
    {
     "data": {
      "text/html": [
       "<div class=\"entities\" style=\"line-height: 2.5; direction: ltr\">Absolutely! \n",
       "<mark class=\"entity\" style=\"background: #bfe1d9; padding: 0.45em 0.6em; margin: 0 0.25em; line-height: 1; border-radius: 0.35em;\">\n",
       "    What day\n",
       "    <span style=\"font-size: 0.8em; font-weight: bold; line-height: 1; border-radius: 0.35em; text-transform: uppercase; vertical-align: middle; margin-left: 0.5rem\">DATE</span>\n",
       "</mark>\n",
       " and time would you like to leave?</div>"
      ],
      "text/plain": [
       "<IPython.core.display.HTML object>"
      ]
     },
     "metadata": {},
     "output_type": "display_data"
    },
    {
     "name": "stdout",
     "output_type": "stream",
     "text": [
      "('Absolutely', 'ADV', 'absolutely')\n",
      "('What', 'PRON', 'what')\n",
      "('day', 'NOUN', 'day')\n",
      "('and', 'CCONJ', 'and')\n",
      "('time', 'NOUN', 'time')\n",
      "('would', 'AUX', 'would')\n",
      "('you', 'PRON', '-PRON-')\n",
      "('like', 'VERB', 'like')\n",
      "('to', 'PART', 'to')\n",
      "('leave', 'VERB', 'leave')\n",
      "******************************************************\n",
      "2-On Thursday any time after 21:00.\n",
      "[('Thursday', 'DATE')]\n",
      "DATE**else\n"
     ]
    },
    {
     "data": {
      "text/html": [
       "<div class=\"entities\" style=\"line-height: 2.5; direction: ltr\">On \n",
       "<mark class=\"entity\" style=\"background: #bfe1d9; padding: 0.45em 0.6em; margin: 0 0.25em; line-height: 1; border-radius: 0.35em;\">\n",
       "    Thursday\n",
       "    <span style=\"font-size: 0.8em; font-weight: bold; line-height: 1; border-radius: 0.35em; text-transform: uppercase; vertical-align: middle; margin-left: 0.5rem\">DATE</span>\n",
       "</mark>\n",
       " any time after 21:00.</div>"
      ],
      "text/plain": [
       "<IPython.core.display.HTML object>"
      ]
     },
     "metadata": {},
     "output_type": "display_data"
    },
    {
     "name": "stdout",
     "output_type": "stream",
     "text": [
      "('On', 'ADP', 'on')\n",
      "('Thursday', 'PROPN', 'Thursday')\n",
      "('any', 'DET', 'any')\n",
      "('time', 'NOUN', 'time')\n",
      "('after', 'ADP', 'after')\n",
      "('21:00', 'NUM', '21:00')\n",
      "******************************************************\n",
      "3-Where will you be departing from? \n"
     ]
    },
    {
     "name": "stderr",
     "output_type": "stream",
     "text": [
      "/usr/lib/python3.5/runpy.py:184: UserWarning: [W006] No entities to visualize found in Doc object. If this is surprising to you, make sure the Doc was processed using a model that supports named entity recognition, and check the `doc.ents` property manually if necessary.\n",
      "  \"__main__\", mod_spec)\n"
     ]
    },
    {
     "data": {
      "text/html": [
       "<div class=\"entities\" style=\"line-height: 2.5; direction: ltr\">Where will you be departing from? </div>"
      ],
      "text/plain": [
       "<IPython.core.display.HTML object>"
      ]
     },
     "metadata": {},
     "output_type": "display_data"
    },
    {
     "name": "stdout",
     "output_type": "stream",
     "text": [
      "('Where', 'ADV', 'where')\n",
      "('will', 'AUX', 'will')\n",
      "('you', 'PRON', '-PRON-')\n",
      "('be', 'AUX', 'be')\n",
      "('departing', 'VERB', 'depart')\n",
      "('from', 'ADP', 'from')\n",
      "******************************************************\n",
      "4-I will departing from birmingham new street.\n",
      "[('birmingham new street', 'FAC')]\n",
      "FAC**else\n"
     ]
    },
    {
     "data": {
      "text/html": [
       "<div class=\"entities\" style=\"line-height: 2.5; direction: ltr\">I will departing from \n",
       "<mark class=\"entity\" style=\"background: #ddd; padding: 0.45em 0.6em; margin: 0 0.25em; line-height: 1; border-radius: 0.35em;\">\n",
       "    birmingham new street\n",
       "    <span style=\"font-size: 0.8em; font-weight: bold; line-height: 1; border-radius: 0.35em; text-transform: uppercase; vertical-align: middle; margin-left: 0.5rem\">FAC</span>\n",
       "</mark>\n",
       ".</div>"
      ],
      "text/plain": [
       "<IPython.core.display.HTML object>"
      ]
     },
     "metadata": {},
     "output_type": "display_data"
    },
    {
     "name": "stdout",
     "output_type": "stream",
     "text": [
      "('I', 'PRON', '-PRON-')\n",
      "('will', 'AUX', 'will')\n",
      "('departing', 'VERB', 'depart')\n",
      "('from', 'ADP', 'from')\n",
      "('birmingham', 'PROPN', 'birmingham')\n",
      "('new', 'PROPN', 'new')\n",
      "('street', 'PROPN', 'street')\n",
      "******************************************************\n",
      "5-I would recommend TR7324 which leaves Birmingham New Street at 21:40 and arrives at Cambridge at 24:23. \n",
      "[('TR7324', 'PRODUCT')]\n",
      "PRODUCT**else\n",
      "[('Birmingham New Street', 'FAC')]\n",
      "FAC**else\n",
      "[('21:40', 'CARDINAL')]\n",
      "CARDINAL**else\n",
      "[('Cambridge', 'GPE')]\n",
      "GPE**else\n",
      "[('24:23', 'DATE')]\n",
      "DATE**else\n"
     ]
    },
    {
     "data": {
      "text/html": [
       "<div class=\"entities\" style=\"line-height: 2.5; direction: ltr\">I would recommend \n",
       "<mark class=\"entity\" style=\"background: #bfeeb7; padding: 0.45em 0.6em; margin: 0 0.25em; line-height: 1; border-radius: 0.35em;\">\n",
       "    TR7324\n",
       "    <span style=\"font-size: 0.8em; font-weight: bold; line-height: 1; border-radius: 0.35em; text-transform: uppercase; vertical-align: middle; margin-left: 0.5rem\">PRODUCT</span>\n",
       "</mark>\n",
       " which leaves \n",
       "<mark class=\"entity\" style=\"background: #ddd; padding: 0.45em 0.6em; margin: 0 0.25em; line-height: 1; border-radius: 0.35em;\">\n",
       "    Birmingham New Street\n",
       "    <span style=\"font-size: 0.8em; font-weight: bold; line-height: 1; border-radius: 0.35em; text-transform: uppercase; vertical-align: middle; margin-left: 0.5rem\">FAC</span>\n",
       "</mark>\n",
       " at \n",
       "<mark class=\"entity\" style=\"background: #e4e7d2; padding: 0.45em 0.6em; margin: 0 0.25em; line-height: 1; border-radius: 0.35em;\">\n",
       "    21:40\n",
       "    <span style=\"font-size: 0.8em; font-weight: bold; line-height: 1; border-radius: 0.35em; text-transform: uppercase; vertical-align: middle; margin-left: 0.5rem\">CARDINAL</span>\n",
       "</mark>\n",
       " and arrives at \n",
       "<mark class=\"entity\" style=\"background: #feca74; padding: 0.45em 0.6em; margin: 0 0.25em; line-height: 1; border-radius: 0.35em;\">\n",
       "    Cambridge\n",
       "    <span style=\"font-size: 0.8em; font-weight: bold; line-height: 1; border-radius: 0.35em; text-transform: uppercase; vertical-align: middle; margin-left: 0.5rem\">GPE</span>\n",
       "</mark>\n",
       " at \n",
       "<mark class=\"entity\" style=\"background: #bfe1d9; padding: 0.45em 0.6em; margin: 0 0.25em; line-height: 1; border-radius: 0.35em;\">\n",
       "    24:23\n",
       "    <span style=\"font-size: 0.8em; font-weight: bold; line-height: 1; border-radius: 0.35em; text-transform: uppercase; vertical-align: middle; margin-left: 0.5rem\">DATE</span>\n",
       "</mark>\n",
       ". </div>"
      ],
      "text/plain": [
       "<IPython.core.display.HTML object>"
      ]
     },
     "metadata": {},
     "output_type": "display_data"
    },
    {
     "name": "stdout",
     "output_type": "stream",
     "text": [
      "('I', 'PRON', '-PRON-')\n",
      "('would', 'AUX', 'would')\n",
      "('recommend', 'VERB', 'recommend')\n",
      "('TR7324', 'NOUN', 'tr7324')\n",
      "('which', 'PRON', 'which')\n",
      "('leaves', 'VERB', 'leave')\n",
      "('Birmingham', 'PROPN', 'Birmingham')\n",
      "('New', 'PROPN', 'New')\n",
      "('Street', 'PROPN', 'Street')\n",
      "('at', 'ADP', 'at')\n",
      "('21:40', 'NUM', '21:40')\n",
      "('and', 'CCONJ', 'and')\n",
      "('arrives', 'VERB', 'arrive')\n",
      "('at', 'ADP', 'at')\n",
      "('Cambridge', 'PROPN', 'Cambridge')\n",
      "('at', 'ADP', 'at')\n",
      "('24:23', 'NUM', '24:23')\n",
      "******************************************************\n",
      "6-Yes can you book that for 1 person?\n",
      "[('1', 'CARDINAL')]\n",
      "CARDINAL**else\n"
     ]
    },
    {
     "data": {
      "text/html": [
       "<div class=\"entities\" style=\"line-height: 2.5; direction: ltr\">Yes can you book that for \n",
       "<mark class=\"entity\" style=\"background: #e4e7d2; padding: 0.45em 0.6em; margin: 0 0.25em; line-height: 1; border-radius: 0.35em;\">\n",
       "    1\n",
       "    <span style=\"font-size: 0.8em; font-weight: bold; line-height: 1; border-radius: 0.35em; text-transform: uppercase; vertical-align: middle; margin-left: 0.5rem\">CARDINAL</span>\n",
       "</mark>\n",
       " person?</div>"
      ],
      "text/plain": [
       "<IPython.core.display.HTML object>"
      ]
     },
     "metadata": {},
     "output_type": "display_data"
    },
    {
     "name": "stdout",
     "output_type": "stream",
     "text": [
      "('Yes', 'INTJ', 'yes')\n",
      "('can', 'AUX', 'can')\n",
      "('you', 'PRON', '-PRON-')\n",
      "('book', 'VERB', 'book')\n",
      "('that', 'DET', 'that')\n",
      "('for', 'ADP', 'for')\n",
      "('1', 'NUM', '1')\n",
      "('person', 'NOUN', 'person')\n",
      "******************************************************\n",
      "7-Your booking for one ticket is complete. Your reference number is VEG5Q87Q and 75.09GBP will be due at the station.\n",
      "[('one', 'CARDINAL')]\n",
      "CARDINAL**else\n"
     ]
    },
    {
     "data": {
      "text/html": [
       "<div class=\"entities\" style=\"line-height: 2.5; direction: ltr\">Your booking for \n",
       "<mark class=\"entity\" style=\"background: #e4e7d2; padding: 0.45em 0.6em; margin: 0 0.25em; line-height: 1; border-radius: 0.35em;\">\n",
       "    one\n",
       "    <span style=\"font-size: 0.8em; font-weight: bold; line-height: 1; border-radius: 0.35em; text-transform: uppercase; vertical-align: middle; margin-left: 0.5rem\">CARDINAL</span>\n",
       "</mark>\n",
       " ticket is complete. Your reference number is VEG5Q87Q and 75.09GBP will be due at the station.</div>"
      ],
      "text/plain": [
       "<IPython.core.display.HTML object>"
      ]
     },
     "metadata": {},
     "output_type": "display_data"
    },
    {
     "name": "stdout",
     "output_type": "stream",
     "text": [
      "('Your', 'PRON', '-PRON-')\n",
      "('booking', 'NOUN', 'booking')\n",
      "('for', 'ADP', 'for')\n",
      "('one', 'NUM', 'one')\n",
      "('ticket', 'NOUN', 'ticket')\n",
      "('is', 'AUX', 'be')\n",
      "('complete', 'ADJ', 'complete')\n",
      "('Your', 'PRON', '-PRON-')\n",
      "('reference', 'NOUN', 'reference')\n",
      "('number', 'NOUN', 'number')\n",
      "('is', 'AUX', 'be')\n",
      "('VEG5Q87Q', 'PROPN', 'VEG5Q87Q')\n",
      "('and', 'CCONJ', 'and')\n",
      "('75.09GBP', 'PROPN', '75.09GBP')\n",
      "('will', 'AUX', 'will')\n",
      "('be', 'AUX', 'be')\n",
      "('due', 'ADJ', 'due')\n",
      "('at', 'ADP', 'at')\n",
      "('the', 'DET', 'the')\n",
      "('station', 'NOUN', 'station')\n",
      "******************************************************\n",
      "8-I am also looking for a attraction called old schools. \n"
     ]
    },
    {
     "name": "stderr",
     "output_type": "stream",
     "text": [
      "/usr/lib/python3.5/runpy.py:184: UserWarning: [W006] No entities to visualize found in Doc object. If this is surprising to you, make sure the Doc was processed using a model that supports named entity recognition, and check the `doc.ents` property manually if necessary.\n",
      "  \"__main__\", mod_spec)\n"
     ]
    },
    {
     "data": {
      "text/html": [
       "<div class=\"entities\" style=\"line-height: 2.5; direction: ltr\">I am also looking for a attraction called old schools. </div>"
      ],
      "text/plain": [
       "<IPython.core.display.HTML object>"
      ]
     },
     "metadata": {},
     "output_type": "display_data"
    },
    {
     "name": "stdout",
     "output_type": "stream",
     "text": [
      "('I', 'PRON', '-PRON-')\n",
      "('am', 'AUX', 'be')\n",
      "('also', 'ADV', 'also')\n",
      "('looking', 'VERB', 'look')\n",
      "('for', 'ADP', 'for')\n",
      "('a', 'DET', 'a')\n",
      "('attraction', 'NOUN', 'attraction')\n",
      "('called', 'VERB', 'call')\n",
      "('old', 'ADJ', 'old')\n",
      "('schools', 'NOUN', 'school')\n",
      "******************************************************\n",
      "9-Yes, Old Schools is located in the centre area, and has no entrance fee. Anything else I can assist you with?\n",
      "[('Old Schools', 'PERSON')]\n",
      "PERSON**else\n"
     ]
    },
    {
     "data": {
      "text/html": [
       "<div class=\"entities\" style=\"line-height: 2.5; direction: ltr\">Yes, \n",
       "<mark class=\"entity\" style=\"background: #aa9cfc; padding: 0.45em 0.6em; margin: 0 0.25em; line-height: 1; border-radius: 0.35em;\">\n",
       "    Old Schools\n",
       "    <span style=\"font-size: 0.8em; font-weight: bold; line-height: 1; border-radius: 0.35em; text-transform: uppercase; vertical-align: middle; margin-left: 0.5rem\">PERSON</span>\n",
       "</mark>\n",
       " is located in the centre area, and has no entrance fee. Anything else I can assist you with?</div>"
      ],
      "text/plain": [
       "<IPython.core.display.HTML object>"
      ]
     },
     "metadata": {},
     "output_type": "display_data"
    },
    {
     "name": "stdout",
     "output_type": "stream",
     "text": [
      "('Yes', 'INTJ', 'yes')\n",
      "('Old', 'PROPN', 'Old')\n",
      "('Schools', 'PROPN', 'Schools')\n",
      "('is', 'AUX', 'be')\n",
      "('located', 'VERB', 'locate')\n",
      "('in', 'ADP', 'in')\n",
      "('the', 'DET', 'the')\n",
      "('centre', 'NOUN', 'centre')\n",
      "('area', 'NOUN', 'area')\n",
      "('and', 'CCONJ', 'and')\n",
      "('has', 'AUX', 'have')\n",
      "('no', 'DET', 'no')\n",
      "('entrance', 'NOUN', 'entrance')\n",
      "('fee', 'NOUN', 'fee')\n",
      "('Anything', 'PRON', 'anything')\n",
      "('else', 'ADV', 'else')\n",
      "('I', 'PRON', '-PRON-')\n",
      "('can', 'AUX', 'can')\n",
      "('assist', 'VERB', 'assist')\n",
      "('you', 'PRON', '-PRON-')\n",
      "('with', 'ADP', 'with')\n",
      "******************************************************\n",
      "10-Yes.  What is the phone number?\n"
     ]
    },
    {
     "name": "stderr",
     "output_type": "stream",
     "text": [
      "/usr/lib/python3.5/runpy.py:184: UserWarning: [W006] No entities to visualize found in Doc object. If this is surprising to you, make sure the Doc was processed using a model that supports named entity recognition, and check the `doc.ents` property manually if necessary.\n",
      "  \"__main__\", mod_spec)\n"
     ]
    },
    {
     "data": {
      "text/html": [
       "<div class=\"entities\" style=\"line-height: 2.5; direction: ltr\">Yes.  What is the phone number?</div>"
      ],
      "text/plain": [
       "<IPython.core.display.HTML object>"
      ]
     },
     "metadata": {},
     "output_type": "display_data"
    },
    {
     "name": "stdout",
     "output_type": "stream",
     "text": [
      "('Yes', 'INTJ', 'yes')\n",
      "(' ', 'SPACE', ' ')\n",
      "('What', 'PRON', 'what')\n",
      "('is', 'AUX', 'be')\n",
      "('the', 'DET', 'the')\n",
      "('phone', 'NOUN', 'phone')\n",
      "('number', 'NOUN', 'number')\n",
      "******************************************************\n",
      "11-Their phone number is 01223332320. Do you need anything else?\n",
      "[('01223332320', 'DATE')]\n",
      "DATE**else\n"
     ]
    },
    {
     "data": {
      "text/html": [
       "<div class=\"entities\" style=\"line-height: 2.5; direction: ltr\">Their phone number is \n",
       "<mark class=\"entity\" style=\"background: #bfe1d9; padding: 0.45em 0.6em; margin: 0 0.25em; line-height: 1; border-radius: 0.35em;\">\n",
       "    01223332320\n",
       "    <span style=\"font-size: 0.8em; font-weight: bold; line-height: 1; border-radius: 0.35em; text-transform: uppercase; vertical-align: middle; margin-left: 0.5rem\">DATE</span>\n",
       "</mark>\n",
       ". Do you need anything else?</div>"
      ],
      "text/plain": [
       "<IPython.core.display.HTML object>"
      ]
     },
     "metadata": {},
     "output_type": "display_data"
    },
    {
     "name": "stdout",
     "output_type": "stream",
     "text": [
      "('Their', 'PRON', '-PRON-')\n",
      "('phone', 'NOUN', 'phone')\n",
      "('number', 'NOUN', 'number')\n",
      "('is', 'AUX', 'be')\n",
      "('01223332320', 'NUM', '01223332320')\n",
      "('Do', 'AUX', 'do')\n",
      "('you', 'PRON', '-PRON-')\n",
      "('need', 'VERB', 'need')\n",
      "('anything', 'PRON', 'anything')\n",
      "('else', 'ADV', 'else')\n",
      "******************************************************\n",
      "12-Yes, what is their entrance fee and attraction type?  Thanks!\n"
     ]
    },
    {
     "name": "stderr",
     "output_type": "stream",
     "text": [
      "/usr/lib/python3.5/runpy.py:184: UserWarning: [W006] No entities to visualize found in Doc object. If this is surprising to you, make sure the Doc was processed using a model that supports named entity recognition, and check the `doc.ents` property manually if necessary.\n",
      "  \"__main__\", mod_spec)\n"
     ]
    },
    {
     "data": {
      "text/html": [
       "<div class=\"entities\" style=\"line-height: 2.5; direction: ltr\">Yes, what is their entrance fee and attraction type?  Thanks!</div>"
      ],
      "text/plain": [
       "<IPython.core.display.HTML object>"
      ]
     },
     "metadata": {},
     "output_type": "display_data"
    },
    {
     "name": "stdout",
     "output_type": "stream",
     "text": [
      "('Yes', 'INTJ', 'yes')\n",
      "('what', 'PRON', 'what')\n",
      "('is', 'AUX', 'be')\n",
      "('their', 'PRON', '-PRON-')\n",
      "('entrance', 'NOUN', 'entrance')\n",
      "('fee', 'NOUN', 'fee')\n",
      "('and', 'CCONJ', 'and')\n",
      "('attraction', 'NOUN', 'attraction')\n",
      "('type', 'NOUN', 'type')\n",
      "(' ', 'SPACE', ' ')\n",
      "('Thanks', 'INTJ', 'thanks')\n",
      "******************************************************\n",
      "13-It is free to enter and type is architecture. May I help you with anything else?\n"
     ]
    },
    {
     "name": "stderr",
     "output_type": "stream",
     "text": [
      "/usr/lib/python3.5/runpy.py:184: UserWarning: [W006] No entities to visualize found in Doc object. If this is surprising to you, make sure the Doc was processed using a model that supports named entity recognition, and check the `doc.ents` property manually if necessary.\n",
      "  \"__main__\", mod_spec)\n"
     ]
    },
    {
     "data": {
      "text/html": [
       "<div class=\"entities\" style=\"line-height: 2.5; direction: ltr\">It is free to enter and type is architecture. May I help you with anything else?</div>"
      ],
      "text/plain": [
       "<IPython.core.display.HTML object>"
      ]
     },
     "metadata": {},
     "output_type": "display_data"
    },
    {
     "name": "stdout",
     "output_type": "stream",
     "text": [
      "('It', 'PRON', '-PRON-')\n",
      "('is', 'AUX', 'be')\n",
      "('free', 'ADJ', 'free')\n",
      "('to', 'PART', 'to')\n",
      "('enter', 'VERB', 'enter')\n",
      "('and', 'CCONJ', 'and')\n",
      "('type', 'VERB', 'type')\n",
      "('is', 'AUX', 'be')\n",
      "('architecture', 'NOUN', 'architecture')\n",
      "('May', 'AUX', 'may')\n",
      "('I', 'PRON', '-PRON-')\n",
      "('help', 'VERB', 'help')\n",
      "('you', 'PRON', '-PRON-')\n",
      "('with', 'ADP', 'with')\n",
      "('anything', 'PRON', 'anything')\n",
      "('else', 'ADV', 'else')\n",
      "******************************************************\n",
      "14-No, you have been very helpful today, thank you.  I am all set.  Goodbye.\n",
      "[('today', 'DATE')]\n",
      "DATE**else\n"
     ]
    },
    {
     "data": {
      "text/html": [
       "<div class=\"entities\" style=\"line-height: 2.5; direction: ltr\">No, you have been very helpful \n",
       "<mark class=\"entity\" style=\"background: #bfe1d9; padding: 0.45em 0.6em; margin: 0 0.25em; line-height: 1; border-radius: 0.35em;\">\n",
       "    today\n",
       "    <span style=\"font-size: 0.8em; font-weight: bold; line-height: 1; border-radius: 0.35em; text-transform: uppercase; vertical-align: middle; margin-left: 0.5rem\">DATE</span>\n",
       "</mark>\n",
       ", thank you.  I am all set.  Goodbye.</div>"
      ],
      "text/plain": [
       "<IPython.core.display.HTML object>"
      ]
     },
     "metadata": {},
     "output_type": "display_data"
    },
    {
     "name": "stdout",
     "output_type": "stream",
     "text": [
      "('No', 'INTJ', 'no')\n",
      "('you', 'PRON', '-PRON-')\n",
      "('have', 'AUX', 'have')\n",
      "('been', 'AUX', 'be')\n",
      "('very', 'ADV', 'very')\n",
      "('helpful', 'ADJ', 'helpful')\n",
      "('today', 'NOUN', 'today')\n",
      "('thank', 'VERB', 'thank')\n",
      "('you', 'PRON', '-PRON-')\n",
      "(' ', 'SPACE', ' ')\n",
      "('I', 'PRON', '-PRON-')\n",
      "('am', 'AUX', 'be')\n",
      "('all', 'ADV', 'all')\n",
      "('set', 'VERB', 'set')\n",
      "(' ', 'SPACE', ' ')\n",
      "('Goodbye', 'PROPN', 'Goodbye')\n",
      "******************************************************\n",
      "15-Thank you for using our service!\n"
     ]
    },
    {
     "name": "stderr",
     "output_type": "stream",
     "text": [
      "/usr/lib/python3.5/runpy.py:184: UserWarning: [W006] No entities to visualize found in Doc object. If this is surprising to you, make sure the Doc was processed using a model that supports named entity recognition, and check the `doc.ents` property manually if necessary.\n",
      "  \"__main__\", mod_spec)\n"
     ]
    },
    {
     "data": {
      "text/html": [
       "<div class=\"entities\" style=\"line-height: 2.5; direction: ltr\">Thank you for using our service!</div>"
      ],
      "text/plain": [
       "<IPython.core.display.HTML object>"
      ]
     },
     "metadata": {},
     "output_type": "display_data"
    },
    {
     "name": "stdout",
     "output_type": "stream",
     "text": [
      "('Thank', 'VERB', 'thank')\n",
      "('you', 'PRON', '-PRON-')\n",
      "('for', 'ADP', 'for')\n",
      "('using', 'VERB', 'use')\n",
      "('our', 'PRON', '-PRON-')\n",
      "('service', 'NOUN', 'service')\n",
      "******************************************************\n"
     ]
    }
   ],
   "source": [
    "for i in range(len(dict_json_weighted[object_1]['log'])):\n",
    "    print(str(i)+\"-\"+dict_json_weighted[object_1]['log'][i]['text'])\n",
    "    sentence =nlp (dict_json_weighted[object_1]['log'][i]['text'])\n",
    "    ### create a file for each sentence\n",
    "    result= open(\"Data/\"+object_1+str(i)+\".txt\",\"w+\")\n",
    "    ### print the label\n",
    "    #print(\"Verbs:\", [token.lemma_ for token in sentence if token.pos_ == \"VERB\"])\n",
    "    for X in (sentence.ents) :\n",
    "        print([(X.text, X.label_) ])\n",
    "        r = open(\"Data/\"+object_1+str(i)+\".txt\", \"r\")     \n",
    "        if str(X.label_) not in r.read():\n",
    "            print(X.label_+\"**else\")\n",
    "            result.write(\"~[\"+X.label_+\"]\\n\")\n",
    "            result.write(\"   \"+X.text+\"\\n\")\n",
    "        elif \"~[\"+X.label_+\"]\" in r.read():\n",
    "            print(X.label_+\"**if\")\n",
    "            result.write(\"   \"+X.text+\"\\n\")\n",
    "                \n",
    "        \n",
    "    #labels = [x.label_ for x in sentence.ents]\n",
    "    #print(len(sentence.ents))\n",
    "    ### print the labels in each sentence\n",
    "    #print(Counter(labels))\n",
    "    ### highlight named entities and their labels in a text\n",
    "    displacy.render(sentence, jupyter=True, style='ent')\n",
    "    ### display the sentence and its dependencies \n",
    "    #displacy.render(sentence, style='dep', jupyter = True, options = {'distance': 120})\n",
    "    \n",
    "    ###apply part-of-speech tagging and lemmatize the sentence.\n",
    "    for x in [y for y in sentence if y.pos_ != 'PUNCT']:\n",
    "        print ((x.orth_,x.pos_, x.lemma_))\n",
    "    print (\"******************************************************\")\n",
    "    "
   ]
  },
  {
   "cell_type": "code",
   "execution_count": null,
   "metadata": {},
   "outputs": [],
   "source": []
  }
 ],
 "metadata": {
  "kernelspec": {
   "display_name": "Python 3",
   "language": "python",
   "name": "python3"
  },
  "language_info": {
   "codemirror_mode": {
    "name": "ipython",
    "version": 3
   },
   "file_extension": ".py",
   "mimetype": "text/x-python",
   "name": "python",
   "nbconvert_exporter": "python",
   "pygments_lexer": "ipython3",
   "version": "3.5.2"
  }
 },
 "nbformat": 4,
 "nbformat_minor": 2
}
