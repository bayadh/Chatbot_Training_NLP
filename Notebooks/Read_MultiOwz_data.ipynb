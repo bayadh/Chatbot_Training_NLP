{
 "cells": [
  {
   "cell_type": "code",
   "execution_count": 1,
   "metadata": {},
   "outputs": [],
   "source": [
    "import pandas as pd\n",
    "import json"
   ]
  },
  {
   "cell_type": "markdown",
   "metadata": {},
   "source": [
    "[MultiOwz data](https://arxiv.org/pdf/1810.00278.pdf)"
   ]
  },
  {
   "cell_type": "code",
   "execution_count": 2,
   "metadata": {},
   "outputs": [],
   "source": [
    "with open('data.json', 'r') as f:\n",
    "    dict_json_weighted = json.load(f)"
   ]
  },
  {
   "cell_type": "markdown",
   "metadata": {},
   "source": [
    "## Display set of keys"
   ]
  },
  {
   "cell_type": "code",
   "execution_count": 3,
   "metadata": {},
   "outputs": [
    {
     "data": {
      "text/plain": [
       "['PMUL0205.json',\n",
       " 'MUL2252.json',\n",
       " 'PMUL2980.json',\n",
       " 'MUL0938.json',\n",
       " 'MUL2169.json']"
      ]
     },
     "execution_count": 3,
     "metadata": {},
     "output_type": "execute_result"
    }
   ],
   "source": [
    "## list of the first 5 keys (Json object that corresponds to a chatbot convesation)\n",
    "list(dict_json_weighted.keys())[0:5]"
   ]
  },
  {
   "cell_type": "code",
   "execution_count": 25,
   "metadata": {},
   "outputs": [],
   "source": [
    "object_1 = list(dict_json_weighted.keys())[3]"
   ]
  },
  {
   "cell_type": "markdown",
   "metadata": {},
   "source": [
    "## What does a json object contain?"
   ]
  },
  {
   "cell_type": "code",
   "execution_count": 5,
   "metadata": {},
   "outputs": [
    {
     "data": {
      "text/plain": [
       "dict_keys(['goal', 'log'])"
      ]
     },
     "execution_count": 5,
     "metadata": {},
     "output_type": "execute_result"
    }
   ],
   "source": [
    "dict_json_weighted[object_1].keys()"
   ]
  },
  {
   "cell_type": "markdown",
   "metadata": {},
   "source": [
    "### It contains two objects: Goal & Log\n",
    "* Goal is results of classification\n",
    "* Log contains the logs of the dialogue"
   ]
  },
  {
   "cell_type": "code",
   "execution_count": 6,
   "metadata": {},
   "outputs": [
    {
     "data": {
      "text/plain": [
       "{'attraction': {},\n",
       " 'hospital': {},\n",
       " 'hotel': {'fail_info': {},\n",
       "  'info': {'name': 'city centre north b and b'},\n",
       "  'reqt': ['pricerange']},\n",
       " 'message': ['You are looking for information in Cambridge',\n",
       "  \"You are looking for a <span class='emphasis'>particular hotel</span>. Its name is called <span class='emphasis'>city centre north b and b</span>\",\n",
       "  \"Make sure you get <span class='emphasis'>price range</span>\",\n",
       "  \"You are also looking for a <span class='emphasis'>train</span>. The train should depart from <span class='emphasis'>cambridge</span> and should go to <span class='emphasis'>bishops stortford</span>\",\n",
       "  \"The train should <span class='emphasis'>leave after 15:30</span> and should leave on <span class='emphasis'>monday</span>\",\n",
       "  \"Once you find the train you want to make a booking for <span class='emphasis'>4 people</span>\",\n",
       "  \"Make sure you get the <span class='emphasis'>reference number</span>\"],\n",
       " 'police': {},\n",
       " 'restaurant': {},\n",
       " 'taxi': {},\n",
       " 'train': {'book': {'invalid': False, 'people': '4'},\n",
       "  'fail_book': {},\n",
       "  'fail_info': {},\n",
       "  'info': {'day': 'monday',\n",
       "   'departure': 'cambridge',\n",
       "   'destination': 'bishops stortford',\n",
       "   'leaveAt': '15:30'}}}"
      ]
     },
     "execution_count": 6,
     "metadata": {},
     "output_type": "execute_result"
    }
   ],
   "source": [
    "dict_json_weighted[object_1]['goal']"
   ]
  },
  {
   "cell_type": "markdown",
   "metadata": {},
   "source": [
    "## In the above example, the user is asking for a taxi from saint john's to pizza hut. The topic is taxi"
   ]
  },
  {
   "cell_type": "code",
   "execution_count": 7,
   "metadata": {},
   "outputs": [
    {
     "name": "stdout",
     "output_type": "stream",
     "text": [
      "I am looking for info about a hotel called city centre north b and b. Can you help? \n",
      "Yes. City Centre North B and B is a guesthouse in the north side of town, that has both free internet and parking. Do you want to book a room?\n",
      "No thanks. No need to book today. Can I get the price range for them though? \n",
      "It's listed as in the cheap price range.\n",
      "Ok, I am also looking for a train from Cambridge to Bishops Stortford.\n",
      "There are several what day and time do you need the train?\n",
      "I'll be leaving Monday after 15:30.\n",
      "TR2630 leaves at 17:29. Would you like for me to book the train for you?\n",
      "Yes I would like to book the train for 4 people and I'll need the reference number please.\n",
      "I'm sorry, I gave you the wrong Train Number it is TR2530 not 2630.  Ref no is : 0ES63CK2.  The total fee is 40.4 GBP payable at the station.\n",
      "That's all I need. Thank you.\n",
      "Okay, well you have a great day! \n",
      "Thanks again for the help. Good bye.\n",
      "Text us back if you need any further assistance. Bye-bye!\n"
     ]
    }
   ],
   "source": [
    "for i in range(len(dict_json_weighted[object_1]['log'])):\n",
    "    print(dict_json_weighted[object_1]['log'][i]['text'])"
   ]
  },
  {
   "cell_type": "code",
   "execution_count": 47,
   "metadata": {},
   "outputs": [
    {
     "name": "stdout",
     "output_type": "stream",
     "text": [
      "I'm looking for a Mediterranean restaurant near the centre of town. \n",
      "I've got three that fit that bill... the gardenia, la mimosa, and shiraz.  Do you have a preference?\n",
      "Is one of them in the cheap price range?\n",
      "Yes, The Gardenia.\n",
      "Great, could I book a table of 5 for 11:30 on wednesday? If so, please provide me with a reference number. \n",
      "Yeah. The reference number is CVWAKCN2\n",
      "Thank you!  Is there any entertainment in the same area as the restaurant?\n",
      "I am sorry. There does not seem to be any matching your choices. Would you like to try another area or attraction?\n",
      "Yes. Can you please search for an attraction in the type of college?\n",
      "Is an entrance fee okay? If so, the corpus christi college located at king's parade. Fee is 2 pounds. Would you like the phone number?\n",
      "I don't mind an entrance fee. Could you actually give me the postcode for that college?\n",
      "Corpus christi is located at king's parade, postcode cb21rh.  Would you like any further information?\n",
      "Yes, I'd like to book a taxi to go from the attraction to the restaurant. \n",
      "I'd be happy to find you a taxi, but first I will need to know what time you'd like to leave corpus christi.\n",
      "I would like to leave Corpus Christi College in enough time to arrive at the restaurant at the booked time of 11:30.\n",
      "I have booked you a taxi that will get you to the restaurant by 11:30. Their phone number is 07469156027. Is there anything else I can help you with?\n",
      "What is the car's contact number and type?\n",
      "Your taxi is a Black Audi and their contact number is 07469156027. Is there anything else I can help you with?\n",
      "That's everything, thank you!\n",
      "Great! I'm glad I could be of assistance to you. Thank you for using our service.\n"
     ]
    }
   ],
   "source": [
    "for i in range(len(dict_json_weighted[object_1]['log'])):\n",
    "    print(dict_json_weighted[object_1]['log'][i]['text'])"
   ]
  },
  {
   "cell_type": "markdown",
   "metadata": {},
   "source": [
    "## Display the slot filling grouped by topic"
   ]
  },
  {
   "cell_type": "code",
   "execution_count": 90,
   "metadata": {},
   "outputs": [
    {
     "name": "stdout",
     "output_type": "stream",
     "text": [
      "****** taxi ******\n",
      "°info\n",
      "{'arriveBy': '11:30'}\n",
      "°reqt\n",
      "['car type', 'phone']\n",
      "****** restaurant ******\n",
      "°book\n",
      "{'time': '11:30', 'people': '5', 'day': 'wednesday', 'invalid': False}\n",
      "°info\n",
      "{'food': 'mediterranean', 'area': 'centre', 'pricerange': 'cheap'}\n",
      "****** attraction ******\n",
      "°fail_info\n",
      "{'type': 'entertainment', 'area': 'centre'}\n",
      "°info\n",
      "{'type': 'college', 'area': 'centre'}\n",
      "°reqt\n",
      "['postcode', 'address', 'entrance fee']\n",
      "****** message ******\n",
      "['You are looking for information in Cambridge', \"You are looking for a <span class='emphasis'>restaurant</span>. The restaurant should serve <span class='emphasis'>mediterranean</span> food and should be in the <span class='emphasis'>centre</span>\", \"The restaurant should be in the <span class='emphasis'>cheap</span> price range\", \"Once you find the <span class='emphasis'>restaurant</span> you want to book a table for <span class='emphasis'>5 people</span> at <span class='emphasis'>11:30</span> on <span class='emphasis'>wednesday</span>\", \"Make sure you get the <span class='emphasis'>reference number</span>\", \"You are also looking for <span class='emphasis'>places to go</span> in town. The attraction should be in the type of <span class='emphasis'>entertainment</span> and should be <span class='emphasis'>in the same area as the restaurant</span>\", \"If there is no such attraction, how about one that is in <span class='emphasis'>the type of college</span>\", \"Make sure you get <span class='emphasis'>postcode</span>, <span class='emphasis'>address</span>, and <span class='emphasis'>entrance fee</span>\", \"You also want to book a <span class='emphasis'>taxi</span> to commute between the two places\", \"You want to make sure it arrives the restaurant <span class='emphasis'>by the booked time</span>\", \"Make sure you get <span class='emphasis'>contact number</span> and <span class='emphasis'>car type</span>\"]\n"
     ]
    }
   ],
   "source": [
    "for i in dict_json_weighted[object_1]['goal']:\n",
    "    if i!='message':\n",
    "        if dict_json_weighted[object_1]['goal'][i] !={}:\n",
    "            print(\"****** \"+i+\" ******\")\n",
    "            for j in (dict_json_weighted[object_1]['goal'][i]):\n",
    "                if dict_json_weighted[object_1]['goal'][i][j] not in ['fail_info', {}]:\n",
    "                    print(\"°\"+j)\n",
    "                    print(dict_json_weighted[object_1]['goal'][i][j])\n",
    "    else:\n",
    "        print(\"****** \"+i+\" ******\")\n",
    "        print(dict_json_weighted[object_1]['goal'][i])"
   ]
  },
  {
   "cell_type": "code",
   "execution_count": null,
   "metadata": {},
   "outputs": [],
   "source": []
  }
 ],
 "metadata": {
  "kernelspec": {
   "display_name": "Python 3",
   "language": "python",
   "name": "python3"
  },
  "language_info": {
   "codemirror_mode": {
    "name": "ipython",
    "version": 3
   },
   "file_extension": ".py",
   "mimetype": "text/x-python",
   "name": "python",
   "nbconvert_exporter": "python",
   "pygments_lexer": "ipython3",
   "version": "3.5.2"
  }
 },
 "nbformat": 4,
 "nbformat_minor": 2
}
