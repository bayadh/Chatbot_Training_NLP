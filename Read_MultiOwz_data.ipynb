{
 "cells": [
  {
   "cell_type": "code",
   "execution_count": 1,
   "metadata": {},
   "outputs": [],
   "source": [
    "import pandas as pd\n",
    "import json"
   ]
  },
  {
   "cell_type": "markdown",
   "metadata": {},
   "source": [
    "[MultiOwz data](https://arxiv.org/pdf/1810.00278.pdf)"
   ]
  },
  {
   "cell_type": "code",
   "execution_count": 2,
   "metadata": {},
   "outputs": [],
   "source": [
    "with open('train_data.json', 'r') as f:\n",
    "    dict_json_weighted = json.load(f)"
   ]
  },
  {
   "cell_type": "markdown",
   "metadata": {},
   "source": [
    "## Display set of keys"
   ]
  },
  {
   "cell_type": "code",
   "execution_count": 3,
   "metadata": {},
   "outputs": [
    {
     "data": {
      "text/plain": [
       "['PMUL3552.json',\n",
       " 'MUL2261.json',\n",
       " 'PMUL3021.json',\n",
       " 'PMUL1170.json',\n",
       " 'PMUL4542.json']"
      ]
     },
     "execution_count": 3,
     "metadata": {},
     "output_type": "execute_result"
    }
   ],
   "source": [
    "## list of the first 5 keys (Json object that corresponds to a chatbot convesation)\n",
    "list(dict_json_weighted.keys())[0:5]"
   ]
  },
  {
   "cell_type": "code",
   "execution_count": 4,
   "metadata": {},
   "outputs": [],
   "source": [
    "object_1 = list(dict_json_weighted.keys())[4]"
   ]
  },
  {
   "cell_type": "markdown",
   "metadata": {},
   "source": [
    "## What does a json object contain?"
   ]
  },
  {
   "cell_type": "code",
   "execution_count": 5,
   "metadata": {},
   "outputs": [
    {
     "data": {
      "text/plain": [
       "dict_keys(['log', 'goal'])"
      ]
     },
     "execution_count": 5,
     "metadata": {},
     "output_type": "execute_result"
    }
   ],
   "source": [
    "dict_json_weighted[object_1].keys()"
   ]
  },
  {
   "cell_type": "markdown",
   "metadata": {},
   "source": [
    "### It contains two objects: Goal & Log\n",
    "* Goal is results of classification\n",
    "* Log contains the logs of the dialogue"
   ]
  },
  {
   "cell_type": "code",
   "execution_count": 6,
   "metadata": {},
   "outputs": [
    {
     "data": {
      "text/plain": [
       "{'attraction': {},\n",
       " 'hospital': {},\n",
       " 'hotel': {},\n",
       " 'message': ['You are planning your trip in Cambridge',\n",
       "  \"You are looking for a <span class='emphasis'>place to dine</span>. The restaurant should be in the <span class='emphasis'>moderate</span> price range and should be in the <span class='emphasis'>east</span>\",\n",
       "  \"Make sure you get <span class='emphasis'>phone number</span>, <span class='emphasis'>address</span>, and <span class='emphasis'>food type</span>\",\n",
       "  \"You are also looking for a <span class='emphasis'>train</span>. The train should depart from <span class='emphasis'>cambridge</span> and should leave on <span class='emphasis'>wednesday</span>\",\n",
       "  \"The train should <span class='emphasis'>arrive by 09:15</span> and should go to <span class='emphasis'>leicester</span>\",\n",
       "  \"Make sure you get <span class='emphasis'>train ID</span>, <span class='emphasis'>travel time</span>, and <span class='emphasis'>price</span>\"],\n",
       " 'police': {},\n",
       " 'restaurant': {'fail_info': {},\n",
       "  'info': {'area': 'east', 'pricerange': 'moderate'},\n",
       "  'reqt': ['phone', 'address', 'food']},\n",
       " 'taxi': {},\n",
       " 'topic': {'attraction': False,\n",
       "  'booking': False,\n",
       "  'general': False,\n",
       "  'hospital': False,\n",
       "  'hotel': False,\n",
       "  'police': False,\n",
       "  'restaurant': False,\n",
       "  'taxi': False,\n",
       "  'train': False},\n",
       " 'train': {'fail_info': {},\n",
       "  'info': {'arriveBy': '09:15',\n",
       "   'day': 'wednesday',\n",
       "   'departure': 'cambridge',\n",
       "   'destination': 'leicester'},\n",
       "  'reqt': ['trainID', 'duration', 'price']}}"
      ]
     },
     "execution_count": 6,
     "metadata": {},
     "output_type": "execute_result"
    }
   ],
   "source": [
    "dict_json_weighted[object_1]['goal']"
   ]
  },
  {
   "cell_type": "markdown",
   "metadata": {},
   "source": [
    "## In the above example, the user is asking for a taxi from saint john's to pizza hut. The topic is taxi"
   ]
  },
  {
   "cell_type": "code",
   "execution_count": 7,
   "metadata": {},
   "outputs": [
    {
     "name": "stdout",
     "output_type": "stream",
     "text": [
      "I am planning a trip in Cambridge\n",
      "Great! Is there a certain restaurant you're looking for?\n",
      "Moderate price in the East. and I need the phone number, address, and food type\n",
      "I have the curry prince which is indian food. Would you like that one?\n",
      "Yes. That would be fine. What is the address and phone number?\n",
      "The address is 451 Newmarket Road Fen Ditton and the phone number is 01223566388. Would you like me to make a reservation for you?\n",
      "not now. im also looking for a train from cambridge.\n",
      "What is your destination?\n",
      "I am going to leicester on Wednesday and need to be there by 09:15. \n",
      "TR3093 departs at 07:21 and arrives by 09:06. Would you like a ticket?\n",
      "I don't need a ticket just yet, but I do need the travel time and price.\n",
      "Duration is 105 minutes and costs 37.80 pounds\n"
     ]
    }
   ],
   "source": [
    "for i in range(len(dict_json_weighted[object_1]['log'])):\n",
    "    print(dict_json_weighted[object_1]['log'][i]['text'])"
   ]
  }
 ],
 "metadata": {
  "kernelspec": {
   "display_name": "Python 3",
   "language": "python",
   "name": "python3"
  },
  "language_info": {
   "codemirror_mode": {
    "name": "ipython",
    "version": 3
   },
   "file_extension": ".py",
   "mimetype": "text/x-python",
   "name": "python",
   "nbconvert_exporter": "python",
   "pygments_lexer": "ipython3",
   "version": "3.5.2"
  }
 },
 "nbformat": 4,
 "nbformat_minor": 2
}
